{
 "cells": [
  {
   "cell_type": "code",
   "execution_count": 12,
   "id": "14d636cf",
   "metadata": {},
   "outputs": [],
   "source": [
    "import pandas as pd\n",
    "import numpy as np\n",
    "import matplotlib.pyplot as plt\n",
    "import matplotlib.ticker as ticker\n",
    "import matplotlib.cm as cm\n",
    "import matplotlib as mpl\n",
    "from matplotlib.gridspec import GridSpec\n",
    "from collections import Counter"
   ]
  },
  {
   "cell_type": "code",
   "execution_count": 2,
   "id": "42d80416",
   "metadata": {},
   "outputs": [],
   "source": [
    "df = pd.read_csv(\"ADNI1_Complete_1Yr_1.5T_6_11_2021.csv\")"
   ]
  },
  {
   "cell_type": "code",
   "execution_count": 36,
   "id": "66390d02",
   "metadata": {},
   "outputs": [
    {
     "data": {
      "text/plain": [
       "pandas.core.frame.DataFrame"
      ]
     },
     "execution_count": 36,
     "metadata": {},
     "output_type": "execute_result"
    }
   ],
   "source": [
    "type(df)"
   ]
  },
  {
   "cell_type": "code",
   "execution_count": 3,
   "id": "0f0abc2a",
   "metadata": {},
   "outputs": [
    {
     "data": {
      "text/html": [
       "<div>\n",
       "<style scoped>\n",
       "    .dataframe tbody tr th:only-of-type {\n",
       "        vertical-align: middle;\n",
       "    }\n",
       "\n",
       "    .dataframe tbody tr th {\n",
       "        vertical-align: top;\n",
       "    }\n",
       "\n",
       "    .dataframe thead th {\n",
       "        text-align: right;\n",
       "    }\n",
       "</style>\n",
       "<table border=\"1\" class=\"dataframe\">\n",
       "  <thead>\n",
       "    <tr style=\"text-align: right;\">\n",
       "      <th></th>\n",
       "      <th>Image Data ID</th>\n",
       "      <th>Subject</th>\n",
       "      <th>Group</th>\n",
       "      <th>Sex</th>\n",
       "      <th>Age</th>\n",
       "      <th>Visit</th>\n",
       "      <th>Modality</th>\n",
       "      <th>Description</th>\n",
       "      <th>Type</th>\n",
       "      <th>Acq Date</th>\n",
       "      <th>Format</th>\n",
       "      <th>Downloaded</th>\n",
       "    </tr>\n",
       "  </thead>\n",
       "  <tbody>\n",
       "    <tr>\n",
       "      <th>0</th>\n",
       "      <td>I97341</td>\n",
       "      <td>941_S_1311</td>\n",
       "      <td>MCI</td>\n",
       "      <td>M</td>\n",
       "      <td>70</td>\n",
       "      <td>3</td>\n",
       "      <td>MRI</td>\n",
       "      <td>MPR-R; GradWarp; B1 Correction; N3; Scaled</td>\n",
       "      <td>Processed</td>\n",
       "      <td>9/27/2007</td>\n",
       "      <td>NiFTI</td>\n",
       "      <td>6/05/2021</td>\n",
       "    </tr>\n",
       "    <tr>\n",
       "      <th>1</th>\n",
       "      <td>I97327</td>\n",
       "      <td>941_S_1311</td>\n",
       "      <td>MCI</td>\n",
       "      <td>M</td>\n",
       "      <td>69</td>\n",
       "      <td>1</td>\n",
       "      <td>MRI</td>\n",
       "      <td>MPR; GradWarp; B1 Correction; N3; Scaled</td>\n",
       "      <td>Processed</td>\n",
       "      <td>3/02/2007</td>\n",
       "      <td>NiFTI</td>\n",
       "      <td>6/05/2021</td>\n",
       "    </tr>\n",
       "    <tr>\n",
       "      <th>2</th>\n",
       "      <td>I112538</td>\n",
       "      <td>941_S_1311</td>\n",
       "      <td>MCI</td>\n",
       "      <td>M</td>\n",
       "      <td>70</td>\n",
       "      <td>4</td>\n",
       "      <td>MRI</td>\n",
       "      <td>MPR; GradWarp; B1 Correction; N3; Scaled</td>\n",
       "      <td>Processed</td>\n",
       "      <td>6/01/2008</td>\n",
       "      <td>NiFTI</td>\n",
       "      <td>6/05/2021</td>\n",
       "    </tr>\n",
       "    <tr>\n",
       "      <th>3</th>\n",
       "      <td>I75150</td>\n",
       "      <td>941_S_1202</td>\n",
       "      <td>CN</td>\n",
       "      <td>M</td>\n",
       "      <td>78</td>\n",
       "      <td>3</td>\n",
       "      <td>MRI</td>\n",
       "      <td>MPR; GradWarp; B1 Correction; N3; Scaled</td>\n",
       "      <td>Processed</td>\n",
       "      <td>8/24/2007</td>\n",
       "      <td>NiFTI</td>\n",
       "      <td>6/04/2021</td>\n",
       "    </tr>\n",
       "    <tr>\n",
       "      <th>4</th>\n",
       "      <td>I63874</td>\n",
       "      <td>941_S_1202</td>\n",
       "      <td>CN</td>\n",
       "      <td>M</td>\n",
       "      <td>78</td>\n",
       "      <td>1</td>\n",
       "      <td>MRI</td>\n",
       "      <td>MPR-R; GradWarp; B1 Correction; N3; Scaled</td>\n",
       "      <td>Processed</td>\n",
       "      <td>1/30/2007</td>\n",
       "      <td>NiFTI</td>\n",
       "      <td>6/04/2021</td>\n",
       "    </tr>\n",
       "  </tbody>\n",
       "</table>\n",
       "</div>"
      ],
      "text/plain": [
       "  Image Data ID     Subject Group Sex  Age  Visit Modality  \\\n",
       "0        I97341  941_S_1311   MCI   M   70      3      MRI   \n",
       "1        I97327  941_S_1311   MCI   M   69      1      MRI   \n",
       "2       I112538  941_S_1311   MCI   M   70      4      MRI   \n",
       "3        I75150  941_S_1202    CN   M   78      3      MRI   \n",
       "4        I63874  941_S_1202    CN   M   78      1      MRI   \n",
       "\n",
       "                                  Description       Type   Acq Date Format  \\\n",
       "0  MPR-R; GradWarp; B1 Correction; N3; Scaled  Processed  9/27/2007  NiFTI   \n",
       "1    MPR; GradWarp; B1 Correction; N3; Scaled  Processed  3/02/2007  NiFTI   \n",
       "2    MPR; GradWarp; B1 Correction; N3; Scaled  Processed  6/01/2008  NiFTI   \n",
       "3    MPR; GradWarp; B1 Correction; N3; Scaled  Processed  8/24/2007  NiFTI   \n",
       "4  MPR-R; GradWarp; B1 Correction; N3; Scaled  Processed  1/30/2007  NiFTI   \n",
       "\n",
       "  Downloaded  \n",
       "0  6/05/2021  \n",
       "1  6/05/2021  \n",
       "2  6/05/2021  \n",
       "3  6/04/2021  \n",
       "4  6/04/2021  "
      ]
     },
     "execution_count": 3,
     "metadata": {},
     "output_type": "execute_result"
    }
   ],
   "source": [
    "df.head()"
   ]
  },
  {
   "cell_type": "code",
   "execution_count": 8,
   "id": "6fbfb3ab",
   "metadata": {},
   "outputs": [
    {
     "data": {
      "text/plain": [
       "Counter({'M': 1341, 'F': 953})"
      ]
     },
     "execution_count": 8,
     "metadata": {},
     "output_type": "execute_result"
    }
   ],
   "source": [
    "\n",
    "Counter(df['Sex'])"
   ]
  },
  {
   "cell_type": "code",
   "execution_count": 9,
   "id": "7c7de722",
   "metadata": {},
   "outputs": [
    {
     "name": "stdout",
     "output_type": "stream",
     "text": [
      "     Image Data ID  Subject  Group   Age  Visit  Modality  Description  Type  \\\n",
      "Sex                                                                            \n",
      "F              953      953    953   953    953       953          953   953   \n",
      "M             1341     1341   1341  1341   1341      1341         1341  1341   \n",
      "\n",
      "     Acq Date  Format  Downloaded  \n",
      "Sex                                \n",
      "F         953     953         953  \n",
      "M        1341    1341        1341  \n"
     ]
    }
   ],
   "source": [
    "title_type = df.groupby('Sex').agg('count')\n",
    "print(title_type)"
   ]
  },
  {
   "cell_type": "code",
   "execution_count": 10,
   "id": "83de72eb",
   "metadata": {},
   "outputs": [],
   "source": [
    "type_labels = title_type.Age.sort_values().index \n",
    "type_counts = title_type.Age.sort_values()"
   ]
  },
  {
   "cell_type": "code",
   "execution_count": 23,
   "id": "4c1c4e46",
   "metadata": {},
   "outputs": [],
   "source": [
    "cmap = plt.get_cmap('Spectral')\n",
    "colors = [cmap(i) for i in np.linspace(0, 1, 8)]"
   ]
  },
  {
   "cell_type": "code",
   "execution_count": 21,
   "id": "ea7622c8",
   "metadata": {},
   "outputs": [
    {
     "data": {
      "text/plain": [
       "([<matplotlib.patches.Wedge at 0x7fe9aba67be0>,\n",
       "  <matplotlib.patches.Wedge at 0x7fe9aba8a400>],\n",
       " [Text(0.2888215851817541, 1.0614057150463714, 'F'),\n",
       "  Text(-0.2888215851817547, -1.0614057150463712, 'M')],\n",
       " [Text(0.15753904646277495, 0.5789485718434753, '41.5%'),\n",
       "  Text(-0.15753904646277528, -0.5789485718434751, '58.5%')])"
      ]
     },
     "execution_count": 21,
     "metadata": {},
     "output_type": "execute_result"
    },
    {
     "data": {
      "image/png": "[encoded data removed]",
      "text/plain": [
       "<Figure size 432x288 with 1 Axes>"
      ]
     },
     "metadata": {},
     "output_type": "display_data"
    }
   ],
   "source": [
    "plt.pie(type_counts, labels=type_labels, autopct='%1.1f%%', shadow=True, colors=colors)"
   ]
  },
  {
   "cell_type": "code",
   "execution_count": 25,
   "id": "4c5ca9e6",
   "metadata": {},
   "outputs": [
    {
     "data": {
      "text/plain": [
       "Counter({'MCI': 1113, 'CN': 705, 'AD': 476})"
      ]
     },
     "execution_count": 25,
     "metadata": {},
     "output_type": "execute_result"
    }
   ],
   "source": [
    "\n",
    "Counter(df['Group'])"
   ]
  },
  {
   "cell_type": "code",
   "execution_count": 26,
   "id": "521b55d9",
   "metadata": {},
   "outputs": [
    {
     "name": "stdout",
     "output_type": "stream",
     "text": [
      "       Image Data ID  Subject   Sex   Age  Visit  Modality  Description  Type  \\\n",
      "Group                                                                           \n",
      "AD               476      476   476   476    476       476          476   476   \n",
      "CN               705      705   705   705    705       705          705   705   \n",
      "MCI             1113     1113  1113  1113   1113      1113         1113  1113   \n",
      "\n",
      "       Acq Date  Format  Downloaded  \n",
      "Group                                \n",
      "AD          476     476         476  \n",
      "CN          705     705         705  \n",
      "MCI        1113    1113        1113  \n"
     ]
    }
   ],
   "source": [
    "title_type = df.groupby('Group').agg('count')\n",
    "print(title_type)"
   ]
  },
  {
   "cell_type": "code",
   "execution_count": 27,
   "id": "79e540e8",
   "metadata": {},
   "outputs": [],
   "source": [
    "type_labels = title_type.Age.sort_values().index \n",
    "type_counts = title_type.Age.sort_values()"
   ]
  },
  {
   "cell_type": "code",
   "execution_count": 28,
   "id": "3be02e15",
   "metadata": {},
   "outputs": [
    {
     "data": {
      "text/plain": [
       "([<matplotlib.patches.Wedge at 0x7fe9abc2aeb0>,\n",
       "  <matplotlib.patches.Wedge at 0x7fe9abc3e8e0>,\n",
       "  <matplotlib.patches.Wedge at 0x7fe9ab9d72b0>],\n",
       " [Text(0.8744433586298186, 0.6673445980512637, 'AD'),\n",
       "  Text(-0.7073227888051917, 0.8424336605554447, 'CN'),\n",
       "  Text(0.05120019915708099, -1.0988077810091605, 'MCI')],\n",
       " [Text(0.47696910470717374, 0.36400614439159834, '20.7%'),\n",
       "  Text(-0.38581243025737727, 0.45950926939387887, '30.7%'),\n",
       "  Text(0.027927381358407808, -0.5993496987322694, '48.5%')])"
      ]
     },
     "execution_count": 28,
     "metadata": {},
     "output_type": "execute_result"
    },
    {
     "data": {
      "image/png": "[encoded data removed]",
      "text/plain": [
       "<Figure size 432x288 with 1 Axes>"
      ]
     },
     "metadata": {},
     "output_type": "display_data"
    }
   ],
   "source": [
    "plt.pie(type_counts, labels=type_labels, autopct='%1.1f%%', shadow=True, colors=colors)"
   ]
  },
  {
   "cell_type": "code",
   "execution_count": 30,
   "id": "e61e29cf",
   "metadata": {
    "scrolled": true
   },
   "outputs": [
    {
     "data": {
      "text/plain": [
       "<BarContainer object of 2294 artists>"
      ]
     },
     "execution_count": 30,
     "metadata": {},
     "output_type": "execute_result"
    },
    {
     "data": {
      "image/png": "[encoded data removed]",
      "text/plain": [
       "<Figure size 432x288 with 1 Axes>"
      ]
     },
     "metadata": {
      "needs_background": "light"
     },
     "output_type": "display_data"
    }
   ],
   "source": [
    "plt.bar(df['Image Data ID'],df.Age)"
   ]
  },
  {
   "cell_type": "code",
   "execution_count": 31,
   "id": "deaa742e",
   "metadata": {},
   "outputs": [
    {
     "data": {
      "text/plain": [
       "55"
      ]
     },
     "execution_count": 31,
     "metadata": {},
     "output_type": "execute_result"
    }
   ],
   "source": [
    "min(df.Age)"
   ]
  },
  {
   "cell_type": "code",
   "execution_count": 32,
   "id": "a1245f8e",
   "metadata": {},
   "outputs": [
    {
     "data": {
      "text/plain": [
       "91"
      ]
     },
     "execution_count": 32,
     "metadata": {},
     "output_type": "execute_result"
    }
   ],
   "source": [
    "max(df.Age)"
   ]
  },
  {
   "cell_type": "code",
   "execution_count": 34,
   "id": "63b299e3",
   "metadata": {},
   "outputs": [],
   "source": [
    "bins = [50,60,70,80,100]\n",
    "labels = ['50-60','60-70','70-80','80 above']"
   ]
  },
  {
   "cell_type": "code",
   "execution_count": 38,
   "id": "95916d79",
   "metadata": {},
   "outputs": [
    {
     "data": {
      "text/plain": [
       "pandas.core.series.Series"
      ]
     },
     "execution_count": 38,
     "metadata": {},
     "output_type": "execute_result"
    }
   ],
   "source": [
    "age_group = pd.cut(df['Age'], bins = bins, labels = labels, right = False )\n",
    "type(age_group)"
   ]
  },
  {
   "cell_type": "code",
   "execution_count": 39,
   "id": "6064a7d1",
   "metadata": {},
   "outputs": [],
   "source": [
    "df['age_group'] = age_group"
   ]
  },
  {
   "cell_type": "code",
   "execution_count": 40,
   "id": "0db74d30",
   "metadata": {},
   "outputs": [
    {
     "data": {
      "text/html": [
       "<div>\n",
       "<style scoped>\n",
       "    .dataframe tbody tr th:only-of-type {\n",
       "        vertical-align: middle;\n",
       "    }\n",
       "\n",
       "    .dataframe tbody tr th {\n",
       "        vertical-align: top;\n",
       "    }\n",
       "\n",
       "    .dataframe thead th {\n",
       "        text-align: right;\n",
       "    }\n",
       "</style>\n",
       "<table border=\"1\" class=\"dataframe\">\n",
       "  <thead>\n",
       "    <tr style=\"text-align: right;\">\n",
       "      <th></th>\n",
       "      <th>Image Data ID</th>\n",
       "      <th>Subject</th>\n",
       "      <th>Group</th>\n",
       "      <th>Sex</th>\n",
       "      <th>Age</th>\n",
       "      <th>Visit</th>\n",
       "      <th>Modality</th>\n",
       "      <th>Description</th>\n",
       "      <th>Type</th>\n",
       "      <th>Acq Date</th>\n",
       "      <th>Format</th>\n",
       "      <th>Downloaded</th>\n",
       "      <th>age_group</th>\n",
       "    </tr>\n",
       "  </thead>\n",
       "  <tbody>\n",
       "    <tr>\n",
       "      <th>0</th>\n",
       "      <td>I97341</td>\n",
       "      <td>941_S_1311</td>\n",
       "      <td>MCI</td>\n",
       "      <td>M</td>\n",
       "      <td>70</td>\n",
       "      <td>3</td>\n",
       "      <td>MRI</td>\n",
       "      <td>MPR-R; GradWarp; B1 Correction; N3; Scaled</td>\n",
       "      <td>Processed</td>\n",
       "      <td>9/27/2007</td>\n",
       "      <td>NiFTI</td>\n",
       "      <td>6/05/2021</td>\n",
       "      <td>70-80</td>\n",
       "    </tr>\n",
       "    <tr>\n",
       "      <th>1</th>\n",
       "      <td>I97327</td>\n",
       "      <td>941_S_1311</td>\n",
       "      <td>MCI</td>\n",
       "      <td>M</td>\n",
       "      <td>69</td>\n",
       "      <td>1</td>\n",
       "      <td>MRI</td>\n",
       "      <td>MPR; GradWarp; B1 Correction; N3; Scaled</td>\n",
       "      <td>Processed</td>\n",
       "      <td>3/02/2007</td>\n",
       "      <td>NiFTI</td>\n",
       "      <td>6/05/2021</td>\n",
       "      <td>60-70</td>\n",
       "    </tr>\n",
       "    <tr>\n",
       "      <th>2</th>\n",
       "      <td>I112538</td>\n",
       "      <td>941_S_1311</td>\n",
       "      <td>MCI</td>\n",
       "      <td>M</td>\n",
       "      <td>70</td>\n",
       "      <td>4</td>\n",
       "      <td>MRI</td>\n",
       "      <td>MPR; GradWarp; B1 Correction; N3; Scaled</td>\n",
       "      <td>Processed</td>\n",
       "      <td>6/01/2008</td>\n",
       "      <td>NiFTI</td>\n",
       "      <td>6/05/2021</td>\n",
       "      <td>70-80</td>\n",
       "    </tr>\n",
       "    <tr>\n",
       "      <th>3</th>\n",
       "      <td>I75150</td>\n",
       "      <td>941_S_1202</td>\n",
       "      <td>CN</td>\n",
       "      <td>M</td>\n",
       "      <td>78</td>\n",
       "      <td>3</td>\n",
       "      <td>MRI</td>\n",
       "      <td>MPR; GradWarp; B1 Correction; N3; Scaled</td>\n",
       "      <td>Processed</td>\n",
       "      <td>8/24/2007</td>\n",
       "      <td>NiFTI</td>\n",
       "      <td>6/04/2021</td>\n",
       "      <td>70-80</td>\n",
       "    </tr>\n",
       "    <tr>\n",
       "      <th>4</th>\n",
       "      <td>I63874</td>\n",
       "      <td>941_S_1202</td>\n",
       "      <td>CN</td>\n",
       "      <td>M</td>\n",
       "      <td>78</td>\n",
       "      <td>1</td>\n",
       "      <td>MRI</td>\n",
       "      <td>MPR-R; GradWarp; B1 Correction; N3; Scaled</td>\n",
       "      <td>Processed</td>\n",
       "      <td>1/30/2007</td>\n",
       "      <td>NiFTI</td>\n",
       "      <td>6/04/2021</td>\n",
       "      <td>70-80</td>\n",
       "    </tr>\n",
       "    <tr>\n",
       "      <th>...</th>\n",
       "      <td>...</td>\n",
       "      <td>...</td>\n",
       "      <td>...</td>\n",
       "      <td>...</td>\n",
       "      <td>...</td>\n",
       "      <td>...</td>\n",
       "      <td>...</td>\n",
       "      <td>...</td>\n",
       "      <td>...</td>\n",
       "      <td>...</td>\n",
       "      <td>...</td>\n",
       "      <td>...</td>\n",
       "      <td>...</td>\n",
       "    </tr>\n",
       "    <tr>\n",
       "      <th>2289</th>\n",
       "      <td>I40966</td>\n",
       "      <td>002_S_0295</td>\n",
       "      <td>CN</td>\n",
       "      <td>M</td>\n",
       "      <td>85</td>\n",
       "      <td>3</td>\n",
       "      <td>MRI</td>\n",
       "      <td>MPR; GradWarp; B1 Correction; N3; Scaled</td>\n",
       "      <td>Processed</td>\n",
       "      <td>11/02/2006</td>\n",
       "      <td>NiFTI</td>\n",
       "      <td>6/03/2021</td>\n",
       "      <td>80 above</td>\n",
       "    </tr>\n",
       "    <tr>\n",
       "      <th>2290</th>\n",
       "      <td>I118692</td>\n",
       "      <td>002_S_0295</td>\n",
       "      <td>CN</td>\n",
       "      <td>M</td>\n",
       "      <td>85</td>\n",
       "      <td>3</td>\n",
       "      <td>MRI</td>\n",
       "      <td>MPR; GradWarp; B1 Correction; N3; Scaled_2</td>\n",
       "      <td>Processed</td>\n",
       "      <td>11/02/2006</td>\n",
       "      <td>NiFTI</td>\n",
       "      <td>6/05/2021</td>\n",
       "      <td>80 above</td>\n",
       "    </tr>\n",
       "    <tr>\n",
       "      <th>2291</th>\n",
       "      <td>I45108</td>\n",
       "      <td>002_S_0295</td>\n",
       "      <td>CN</td>\n",
       "      <td>M</td>\n",
       "      <td>85</td>\n",
       "      <td>1</td>\n",
       "      <td>MRI</td>\n",
       "      <td>MPR; GradWarp; B1 Correction; N3; Scaled</td>\n",
       "      <td>Processed</td>\n",
       "      <td>4/18/2006</td>\n",
       "      <td>NiFTI</td>\n",
       "      <td>6/03/2021</td>\n",
       "      <td>80 above</td>\n",
       "    </tr>\n",
       "    <tr>\n",
       "      <th>2292</th>\n",
       "      <td>I118671</td>\n",
       "      <td>002_S_0295</td>\n",
       "      <td>CN</td>\n",
       "      <td>M</td>\n",
       "      <td>85</td>\n",
       "      <td>1</td>\n",
       "      <td>MRI</td>\n",
       "      <td>MPR; GradWarp; B1 Correction; N3; Scaled_2</td>\n",
       "      <td>Processed</td>\n",
       "      <td>4/18/2006</td>\n",
       "      <td>NiFTI</td>\n",
       "      <td>6/05/2021</td>\n",
       "      <td>80 above</td>\n",
       "    </tr>\n",
       "    <tr>\n",
       "      <th>2293</th>\n",
       "      <td>I64025</td>\n",
       "      <td>002_S_0295</td>\n",
       "      <td>CN</td>\n",
       "      <td>M</td>\n",
       "      <td>86</td>\n",
       "      <td>4</td>\n",
       "      <td>MRI</td>\n",
       "      <td>MPR; GradWarp; B1 Correction; N3; Scaled</td>\n",
       "      <td>Processed</td>\n",
       "      <td>5/25/2007</td>\n",
       "      <td>NiFTI</td>\n",
       "      <td>6/04/2021</td>\n",
       "      <td>80 above</td>\n",
       "    </tr>\n",
       "  </tbody>\n",
       "</table>\n",
       "<p>2294 rows × 13 columns</p>\n",
       "</div>"
      ],
      "text/plain": [
       "     Image Data ID     Subject Group Sex  Age  Visit Modality  \\\n",
       "0           I97341  941_S_1311   MCI   M   70      3      MRI   \n",
       "1           I97327  941_S_1311   MCI   M   69      1      MRI   \n",
       "2          I112538  941_S_1311   MCI   M   70      4      MRI   \n",
       "3           I75150  941_S_1202    CN   M   78      3      MRI   \n",
       "4           I63874  941_S_1202    CN   M   78      1      MRI   \n",
       "...            ...         ...   ...  ..  ...    ...      ...   \n",
       "2289        I40966  002_S_0295    CN   M   85      3      MRI   \n",
       "2290       I118692  002_S_0295    CN   M   85      3      MRI   \n",
       "2291        I45108  002_S_0295    CN   M   85      1      MRI   \n",
       "2292       I118671  002_S_0295    CN   M   85      1      MRI   \n",
       "2293        I64025  002_S_0295    CN   M   86      4      MRI   \n",
       "\n",
       "                                     Description       Type    Acq Date  \\\n",
       "0     MPR-R; GradWarp; B1 Correction; N3; Scaled  Processed   9/27/2007   \n",
       "1       MPR; GradWarp; B1 Correction; N3; Scaled  Processed   3/02/2007   \n",
       "2       MPR; GradWarp; B1 Correction; N3; Scaled  Processed   6/01/2008   \n",
       "3       MPR; GradWarp; B1 Correction; N3; Scaled  Processed   8/24/2007   \n",
       "4     MPR-R; GradWarp; B1 Correction; N3; Scaled  Processed   1/30/2007   \n",
       "...                                          ...        ...         ...   \n",
       "2289    MPR; GradWarp; B1 Correction; N3; Scaled  Processed  11/02/2006   \n",
       "2290  MPR; GradWarp; B1 Correction; N3; Scaled_2  Processed  11/02/2006   \n",
       "2291    MPR; GradWarp; B1 Correction; N3; Scaled  Processed   4/18/2006   \n",
       "2292  MPR; GradWarp; B1 Correction; N3; Scaled_2  Processed   4/18/2006   \n",
       "2293    MPR; GradWarp; B1 Correction; N3; Scaled  Processed   5/25/2007   \n",
       "\n",
       "     Format Downloaded age_group  \n",
       "0     NiFTI  6/05/2021     70-80  \n",
       "1     NiFTI  6/05/2021     60-70  \n",
       "2     NiFTI  6/05/2021     70-80  \n",
       "3     NiFTI  6/04/2021     70-80  \n",
       "4     NiFTI  6/04/2021     70-80  \n",
       "...     ...        ...       ...  \n",
       "2289  NiFTI  6/03/2021  80 above  \n",
       "2290  NiFTI  6/05/2021  80 above  \n",
       "2291  NiFTI  6/03/2021  80 above  \n",
       "2292  NiFTI  6/05/2021  80 above  \n",
       "2293  NiFTI  6/04/2021  80 above  \n",
       "\n",
       "[2294 rows x 13 columns]"
      ]
     },
     "execution_count": 40,
     "metadata": {},
     "output_type": "execute_result"
    }
   ],
   "source": [
    "df"
   ]
  },
  {
   "cell_type": "code",
   "execution_count": 41,
   "id": "427b22a6",
   "metadata": {},
   "outputs": [
    {
     "data": {
      "text/html": [
       "<div>\n",
       "<style scoped>\n",
       "    .dataframe tbody tr th:only-of-type {\n",
       "        vertical-align: middle;\n",
       "    }\n",
       "\n",
       "    .dataframe tbody tr th {\n",
       "        vertical-align: top;\n",
       "    }\n",
       "\n",
       "    .dataframe thead th {\n",
       "        text-align: right;\n",
       "    }\n",
       "</style>\n",
       "<table border=\"1\" class=\"dataframe\">\n",
       "  <thead>\n",
       "    <tr style=\"text-align: right;\">\n",
       "      <th></th>\n",
       "      <th>Image Data ID</th>\n",
       "      <th>Subject</th>\n",
       "      <th>Group</th>\n",
       "      <th>Sex</th>\n",
       "      <th>Age</th>\n",
       "      <th>Visit</th>\n",
       "      <th>Modality</th>\n",
       "      <th>Description</th>\n",
       "      <th>Type</th>\n",
       "      <th>Acq Date</th>\n",
       "      <th>Format</th>\n",
       "      <th>Downloaded</th>\n",
       "    </tr>\n",
       "    <tr>\n",
       "      <th>age_group</th>\n",
       "      <th></th>\n",
       "      <th></th>\n",
       "      <th></th>\n",
       "      <th></th>\n",
       "      <th></th>\n",
       "      <th></th>\n",
       "      <th></th>\n",
       "      <th></th>\n",
       "      <th></th>\n",
       "      <th></th>\n",
       "      <th></th>\n",
       "      <th></th>\n",
       "    </tr>\n",
       "  </thead>\n",
       "  <tbody>\n",
       "    <tr>\n",
       "      <th>50-60</th>\n",
       "      <td>42</td>\n",
       "      <td>42</td>\n",
       "      <td>42</td>\n",
       "      <td>42</td>\n",
       "      <td>42</td>\n",
       "      <td>42</td>\n",
       "      <td>42</td>\n",
       "      <td>42</td>\n",
       "      <td>42</td>\n",
       "      <td>42</td>\n",
       "      <td>42</td>\n",
       "      <td>42</td>\n",
       "    </tr>\n",
       "    <tr>\n",
       "      <th>60-70</th>\n",
       "      <td>278</td>\n",
       "      <td>278</td>\n",
       "      <td>278</td>\n",
       "      <td>278</td>\n",
       "      <td>278</td>\n",
       "      <td>278</td>\n",
       "      <td>278</td>\n",
       "      <td>278</td>\n",
       "      <td>278</td>\n",
       "      <td>278</td>\n",
       "      <td>278</td>\n",
       "      <td>278</td>\n",
       "    </tr>\n",
       "    <tr>\n",
       "      <th>70-80</th>\n",
       "      <td>1303</td>\n",
       "      <td>1303</td>\n",
       "      <td>1303</td>\n",
       "      <td>1303</td>\n",
       "      <td>1303</td>\n",
       "      <td>1303</td>\n",
       "      <td>1303</td>\n",
       "      <td>1303</td>\n",
       "      <td>1303</td>\n",
       "      <td>1303</td>\n",
       "      <td>1303</td>\n",
       "      <td>1303</td>\n",
       "    </tr>\n",
       "    <tr>\n",
       "      <th>80 above</th>\n",
       "      <td>671</td>\n",
       "      <td>671</td>\n",
       "      <td>671</td>\n",
       "      <td>671</td>\n",
       "      <td>671</td>\n",
       "      <td>671</td>\n",
       "      <td>671</td>\n",
       "      <td>671</td>\n",
       "      <td>671</td>\n",
       "      <td>671</td>\n",
       "      <td>671</td>\n",
       "      <td>671</td>\n",
       "    </tr>\n",
       "  </tbody>\n",
       "</table>\n",
       "</div>"
      ],
      "text/plain": [
       "           Image Data ID  Subject  Group   Sex   Age  Visit  Modality  \\\n",
       "age_group                                                               \n",
       "50-60                 42       42     42    42    42     42        42   \n",
       "60-70                278      278    278   278   278    278       278   \n",
       "70-80               1303     1303   1303  1303  1303   1303      1303   \n",
       "80 above             671      671    671   671   671    671       671   \n",
       "\n",
       "           Description  Type  Acq Date  Format  Downloaded  \n",
       "age_group                                                   \n",
       "50-60               42    42        42      42          42  \n",
       "60-70              278   278       278     278         278  \n",
       "70-80             1303  1303      1303    1303        1303  \n",
       "80 above           671   671       671     671         671  "
      ]
     },
     "execution_count": 41,
     "metadata": {},
     "output_type": "execute_result"
    }
   ],
   "source": [
    "m = df.groupby('age_group').agg('count')\n",
    "m"
   ]
  },
  {
   "cell_type": "code",
   "execution_count": 45,
   "id": "806cbe4f",
   "metadata": {},
   "outputs": [
    {
     "data": {
      "text/plain": [
       "Text(0.5, 1.0, 'Number of patients in different age groups')"
      ]
     },
     "execution_count": 45,
     "metadata": {},
     "output_type": "execute_result"
    },
    {
     "data": {
      "image/png": "[encoded data removed]",
      "text/plain": [
       "<Figure size 432x288 with 1 Axes>"
      ]
     },
     "metadata": {
      "needs_background": "light"
     },
     "output_type": "display_data"
    }
   ],
   "source": [
    "plt.bar(labels,m.Age )\n",
    "plt.xlabel('Age')\n",
    "plt.ylabel('Number of patients')\n",
    "plt.title('Number of patients in different age groups')"
   ]
  },
  {
   "cell_type": "code",
   "execution_count": 52,
   "id": "f18437cb",
   "metadata": {},
   "outputs": [
    {
     "data": {
      "text/html": [
       "<div>\n",
       "<style scoped>\n",
       "    .dataframe tbody tr th:only-of-type {\n",
       "        vertical-align: middle;\n",
       "    }\n",
       "\n",
       "    .dataframe tbody tr th {\n",
       "        vertical-align: top;\n",
       "    }\n",
       "\n",
       "    .dataframe thead th {\n",
       "        text-align: right;\n",
       "    }\n",
       "</style>\n",
       "<table border=\"1\" class=\"dataframe\">\n",
       "  <thead>\n",
       "    <tr style=\"text-align: right;\">\n",
       "      <th></th>\n",
       "      <th>Image Data ID</th>\n",
       "      <th>Subject</th>\n",
       "      <th>Group</th>\n",
       "      <th>Age</th>\n",
       "      <th>Visit</th>\n",
       "      <th>Modality</th>\n",
       "      <th>Description</th>\n",
       "      <th>Type</th>\n",
       "      <th>Acq Date</th>\n",
       "      <th>Format</th>\n",
       "      <th>Downloaded</th>\n",
       "      <th>age_group</th>\n",
       "    </tr>\n",
       "    <tr>\n",
       "      <th>Sex</th>\n",
       "      <th></th>\n",
       "      <th></th>\n",
       "      <th></th>\n",
       "      <th></th>\n",
       "      <th></th>\n",
       "      <th></th>\n",
       "      <th></th>\n",
       "      <th></th>\n",
       "      <th></th>\n",
       "      <th></th>\n",
       "      <th></th>\n",
       "      <th></th>\n",
       "    </tr>\n",
       "  </thead>\n",
       "  <tbody>\n",
       "    <tr>\n",
       "      <th>F</th>\n",
       "      <td>953</td>\n",
       "      <td>953</td>\n",
       "      <td>953</td>\n",
       "      <td>953</td>\n",
       "      <td>953</td>\n",
       "      <td>953</td>\n",
       "      <td>953</td>\n",
       "      <td>953</td>\n",
       "      <td>953</td>\n",
       "      <td>953</td>\n",
       "      <td>953</td>\n",
       "      <td>953</td>\n",
       "    </tr>\n",
       "    <tr>\n",
       "      <th>M</th>\n",
       "      <td>1341</td>\n",
       "      <td>1341</td>\n",
       "      <td>1341</td>\n",
       "      <td>1341</td>\n",
       "      <td>1341</td>\n",
       "      <td>1341</td>\n",
       "      <td>1341</td>\n",
       "      <td>1341</td>\n",
       "      <td>1341</td>\n",
       "      <td>1341</td>\n",
       "      <td>1341</td>\n",
       "      <td>1341</td>\n",
       "    </tr>\n",
       "  </tbody>\n",
       "</table>\n",
       "</div>"
      ],
      "text/plain": [
       "     Image Data ID  Subject  Group   Age  Visit  Modality  Description  Type  \\\n",
       "Sex                                                                            \n",
       "F              953      953    953   953    953       953          953   953   \n",
       "M             1341     1341   1341  1341   1341      1341         1341  1341   \n",
       "\n",
       "     Acq Date  Format  Downloaded  age_group  \n",
       "Sex                                           \n",
       "F         953     953         953        953  \n",
       "M        1341    1341        1341       1341  "
      ]
     },
     "execution_count": 52,
     "metadata": {},
     "output_type": "execute_result"
    }
   ],
   "source": [
    "df.groupby('Group' and 'Sex').agg('count')"
   ]
  },
  {
   "cell_type": "code",
   "execution_count": null,
   "id": "28cc93b3",
   "metadata": {},
   "outputs": [],
   "source": [
    "\n",
    "\n",
    "X = ['AD','MCI','CN']\n",
    "male = [10,20,20,40]\n",
    "female = [20,30,25,30]\n",
    "\n",
    "X_axis = np.arange(len(X))\n",
    "\n",
    "plt.bar(X_axis - 0.2, male, 0.4, label = 'male')\n",
    "plt.bar(X_axis + 0.2, female, 0.4, label = 'female')\n",
    "\n",
    "plt.xticks(X_axis, X)\n",
    "plt.xlabel(\"Groups\")\n",
    "plt.ylabel(\"Number of Students\")\n",
    "plt.title(\"Number of Students in each group\")\n",
    "plt.legend()\n",
    "plt.show()\n"
   ]
  }
 ],
 "metadata": {
  "kernelspec": {
   "display_name": "Python 3",
   "language": "python",
   "name": "python3"
  },
  "language_info": {
   "codemirror_mode": {
    "name": "ipython",
    "version": 3
   },
   "file_extension": ".py",
   "mimetype": "text/x-python",
   "name": "python",
   "nbconvert_exporter": "python",
   "pygments_lexer": "ipython3",
   "version": "3.8.8"
  }
 },
 "nbformat": 4,
 "nbformat_minor": 5
}
