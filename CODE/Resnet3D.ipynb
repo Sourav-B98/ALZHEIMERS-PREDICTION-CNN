{
 "cells": [
  {
   "cell_type": "markdown",
   "metadata": {
    "colab_type": "text",
    "id": "qILV0zNsOGkb"
   },
   "source": [
    "# USING A RESNET 3D FOR ALZHEIMER DIAGNOSIS\n",
    "\n"
   ]
  },
  {
   "cell_type": "code",
   "execution_count": 0,
   "metadata": {
    "colab": {},
    "colab_type": "code",
    "id": "jHkhbMHMiC22"
   },
   "outputs": [],
   "source": [
    "! pip install simpleitk"
   ]
  },
  {
   "cell_type": "code",
   "execution_count": 0,
   "metadata": {
    "colab": {},
    "colab_type": "code",
    "id": "1gqfLtB49G1w"
   },
   "outputs": [],
   "source": [
    "import tensorflow as tf\n",
    "import numpy as np\n",
    "import SimpleITK as sitk\n",
    "\n",
    "from tensorflow import keras\n",
    "from skimage import filters\n",
    "from sklearn import metrics as skmetrics\n",
    "from matplotlib import pyplot as plt\n",
    "\n",
    "#from dltk.io import preprocessing\n",
    "from scipy import interp\n",
    "from itertools import cycle\n",
    "\n",
    "import os\n",
    "import json"
   ]
  },
  {
   "cell_type": "code",
   "execution_count": 0,
   "metadata": {
    "colab": {},
    "colab_type": "code",
    "id": "W-KE-vHY73YB"
   },
   "outputs": [],
   "source": [
    "from importlib.machinery import SourceFileLoader\n",
    "keras_resnet3d = '/content/drive/MyDrive/Libraries/keras-resnet3d/'\n",
    "resnet3d = SourceFileLoader('resnet3d', os.path.join(keras_resnet3d, 'resnet3d/resnet3d.py')).load_module()\n",
    "from resnet3d import Resnet3DBuilder"
   ]
  },
  {
   "cell_type": "markdown",
   "metadata": {
    "colab_type": "text",
    "id": "02oqBTZdoxu0"
   },
   "source": [
    "---\n",
    "\n",
    "## USING MRI IMAGES"
   ]
  },
  {
   "cell_type": "code",
   "execution_count": 0,
   "metadata": {
    "colab": {},
    "colab_type": "code",
    "id": "vsVoWxgNnrXB"
   },
   "outputs": [],
   "source": [
    "# 3D supervised TFRecords databases\n",
    "DB_TF_3D_PATH = '/content/drive/MyDrive/TF_RECORDS/TF_RECORDS_3D/'\n",
    "\n",
    "# path where we save all the information about the models, like the training results\n",
    "DB_MODELS = '/content/drive/MyDrive/MODELS/resnet_3d/'\n",
    "\n",
    "\n",
    "# skull-stripped files\n",
    "TFREC_3D_SS_TRAIN = 'train.3D.skull_stripped.tfrecords'\n",
    "TFREC_3D_SS_VAL = 'validation.3D.skull_stripped.tfrecords'\n",
    "TFREC_3D_SS_TEST = 'test.3D.skull_stripped.tfrecords'"
   ]
  },
  {
   "cell_type": "markdown",
   "metadata": {
    "colab_type": "text",
    "id": "_WYYDdDqpDUf"
   },
   "source": [
    "Also, create constants with the shape of the images and a dictionary with the class labels."
   ]
  },
  {
   "cell_type": "code",
   "execution_count": 0,
   "metadata": {
    "colab": {},
    "colab_type": "code",
    "id": "4hf7nrrfnvm-"
   },
   "outputs": [],
   "source": [
    "LABELS = {'CN': 0, 'MCI': 1, 'AD': 2}\n",
    "N_CLASSES = len(LABELS)\n",
    "\n",
    "IMG_SHAPE = (78, 110, 86, 1)\n",
    "\n",
    "#TEST_SPLIT = 0.15\n",
    "#VALIDATION_SPLIT = 0.15"
   ]
  },
  {
   "cell_type": "markdown",
   "metadata": {
    "colab_type": "text",
    "id": "moIGQKsw2yJH"
   },
   "source": [
    "---\n",
    "\n",
    "### Checking TFRecords data\n"
   ]
  },
  {
   "cell_type": "code",
   "execution_count": 0,
   "metadata": {
    "colab": {},
    "colab_type": "code",
    "id": "pwRlEPfqIeiV"
   },
   "outputs": [],
   "source": [
    "training_tfrec = os.path.join(DB_TF_3D_PATH, TFREC_3D_SS_TRAIN)\n",
    "validation_tfrec = os.path.join(DB_TF_3D_PATH, TFREC_3D_SS_VAL)\n",
    "test_tfrec = os.path.join(DB_TF_3D_PATH, TFREC_3D_SS_TEST)"
   ]
  },
  {
   "cell_type": "markdown",
   "metadata": {
    "colab_type": "text",
    "id": "G14rzmgvtw2i"
   },
   "source": [
    "Load the number of instances for each set (training/validation/test). These have already been calculated in previous steps, so in the next cell we directly assign their values:"
   ]
  },
  {
   "cell_type": "code",
   "execution_count": 0,
   "metadata": {
    "colab": {},
    "colab_type": "code",
    "id": "WpzXKRRVt4_0"
   },
   "outputs": [],
   "source": [
    "total_n_samples = 2294\n",
    "n_training_samples = 1658\n",
    "n_val_samples = 292\n",
    "n_test_samples = 344"
   ]
  },
  {
   "cell_type": "markdown",
   "metadata": {
    "colab_type": "text",
    "id": "SExKyFw1pY60"
   },
   "source": [
    "---\n",
    "\n",
    "### Previous steps\n",
    "\n",
    "#### Importing TFRecords"
   ]
  },
  {
   "cell_type": "code",
   "execution_count": 2,
   "metadata": {
    "colab": {},
    "colab_type": "code",
    "id": "ySMShHNiswS7"
   },
   "outputs": [],
   "source": [
    "SHUFFLE_BUFFER = 100"
   ]
  },
  {
   "cell_type": "code",
   "execution_count": 0,
   "metadata": {
    "colab": {},
    "colab_type": "code",
    "id": "65_V2hOv4LfZ"
   },
   "outputs": [],
   "source": [
    "def _decode(serialized_example):\n",
    "    ''' Decoding function for the serialized examples\n",
    "        of the TFRecords files\n",
    "    '''\n",
    "    # decode examples stored in TFRecord\n",
    "    feature = tf.parse_single_example(\n",
    "        serialized_example,\n",
    "        features = {\n",
    "            'image': tf.FixedLenFeature(IMG_SHAPE, tf.float32),\n",
    "            'label': tf.FixedLenFeature([], tf.int64),\n",
    "            'subject': tf.FixedLenFeature([], tf.string),\n",
    "            'preprocessing': tf.FixedLenFeature([], tf.string),\n",
    "            'subject_sex': tf.FixedLenFeature([], tf.string),\n",
    "            'subject_age': tf.FixedLenFeature([], tf.int64),\n",
    "            'image_id': tf.FixedLenFeature([], tf.int64)\n",
    "        }\n",
    "    )\n",
    "    \n",
    "    return feature['image'], feature['label']"
   ]
  },
  {
   "cell_type": "code",
   "execution_count": 0,
   "metadata": {
    "colab": {},
    "colab_type": "code",
    "id": "iU-52X7Iq2AT"
   },
   "outputs": [],
   "source": [
    "def dataset_parser(filepath, batch_size, mapping_fn=None, preprocessing_fn=None, n_classes=3):\n",
    "  ''' This method is a pipeline for feeding\n",
    "      tfrecord data into a Keras model.\n",
    "      \n",
    "      Parameters:\n",
    "        filepath -- The complete path to the TFRecord file\n",
    "        batch_size -- The size of the batch\n",
    "        mapping_fn -- Function for extra mapping the values. \n",
    "                      For adapting the records to binary classification.\n",
    "        preprocessing_fn -- Function for image preprocessing\n",
    "        n_classes -- Number of possible classes for the current implementation\n",
    "        \n",
    "      Returns:\n",
    "        image -- Tensor with the image\n",
    "        label -- Tensor with the label\n",
    "  '''\n",
    "  \n",
    "  # create and configure the dataset\n",
    "  dataset = tf.data.TFRecordDataset(filepath).map(_decode)\n",
    "  if mapping_fn != None: dataset = dataset.map(mapping_fn)\n",
    "  if preprocessing_fn != None: dataset = dataset.map(preprocessing_fn)\n",
    "    \n",
    "  dataset = dataset.shuffle(SHUFFLE_BUFFER).repeat()\n",
    "  dataset = dataset.batch(batch_size)\n",
    "  dataset = dataset.prefetch(1)\n",
    "  \n",
    "  # get example\n",
    "  iterator = dataset.make_one_shot_iterator()\n",
    "  image, label = iterator.get_next()\n",
    "  \n",
    "  # encode the label\n",
    "  label = tf.one_hot(label, n_classes)\n",
    "  \n",
    "  return image, label"
   ]
  },
  {
   "cell_type": "code",
   "execution_count": 0,
   "metadata": {
    "colab": {},
    "colab_type": "code",
    "id": "uQUc6kG8LLV3"
   },
   "outputs": [],
   "source": [
    "whitening_fn = lambda img, label: (tf.image.per_image_standardization(img), label) "
   ]
  },
  {
   "cell_type": "markdown",
   "metadata": {
    "colab_type": "text",
    "id": "2XRZRBWtvuPN"
   },
   "source": [
    "#### VIsualization function"
   ]
  },
  {
   "cell_type": "code",
   "execution_count": 0,
   "metadata": {
    "colab": {},
    "colab_type": "code",
    "id": "Sv0MTISOQbEw"
   },
   "outputs": [],
   "source": [
    "def plot_training(history, title):\n",
    "  ''' Plot the training and validation loss + accuracy\n",
    "  '''\n",
    "  \n",
    "  acc = history.history['acc'][1:]\n",
    "  val_acc = history.history['val_acc'][1:]\n",
    "  loss = history.history['loss'][1:]\n",
    "  val_loss = history.history['val_loss'][1:]\n",
    "  epochs = range(len(acc))\n",
    "  \n",
    "  plt.figure(figsize=(20, 8))\n",
    "\n",
    "  plt.subplot(121)\n",
    "  plt.plot(epochs, acc, 'r.')\n",
    "  plt.plot(epochs, val_acc, 'r')\n",
    "  plt.legend(('Training accuracy', 'Validation accuracy'),\n",
    "             loc='upper right')\n",
    "  plt.title(title + '- Accuracy')\n",
    "\n",
    "  plt.subplot(122)\n",
    "  plt.plot(epochs, loss, 'b.')\n",
    "  plt.plot(epochs, val_loss, 'b')\n",
    "  plt.legend(('Training loss', 'Validation loss'),\n",
    "             loc='upper right')\n",
    "  plt.title(title)\n",
    "  \n",
    "  export_file = '-'.join(title.split()) + '.png'\n",
    "  plt.savefig(os.path.join(DB_MODELS, export_file))\n",
    "  \n",
    "  plt.show()"
   ]
  },
  {
   "cell_type": "markdown",
   "metadata": {
    "colab_type": "text",
    "id": "07WQlXCBykyB"
   },
   "source": [
    "#### Testing functions"
   ]
  },
  {
   "cell_type": "code",
   "execution_count": 0,
   "metadata": {
    "colab": {},
    "colab_type": "code",
    "id": "mZ99jF4oXiZi"
   },
   "outputs": [],
   "source": [
    "def get_data_for_predict(tfrec_file, decoding_fn, mapping_fn=None, preprocessing_fn=None):\n",
    "  ''' Read and return the data from a TFRecord file.\n",
    "      This function is only ready for working with test data.\n",
    "      \n",
    "      Params:\n",
    "        tfrec_file -- Absolute path to the .tfrecord\n",
    "        decoding_fn - Function used to decode the serialized examples\n",
    "        mapping_fn -- Optional extra mapping for binary classification\n",
    "        preprocessing_fn -- Function for image preprocessing\n",
    "      \n",
    "      Returns:\n",
    "        images and labels (tuple)\n",
    "  '''\n",
    "  \n",
    "  # create the placeholders\n",
    "  images = np.empty((n_test_samples, IMG_SHAPE[0], IMG_SHAPE[1], IMG_SHAPE[2], IMG_SHAPE[3]))\n",
    "  labels = np.empty((n_test_samples))\n",
    "\n",
    "  # create the iterator for the TFRecord\n",
    "  dataset = tf.data.TFRecordDataset(tfrec_file).map(decoding_fn)\n",
    "  if mapping_fn != None: dataset = dataset.map(mapping_fn)\n",
    "  if preprocessing_fn != None: dataset = dataset.map(preprocessing_fn)\n",
    "  iterator = dataset.make_one_shot_iterator()\n",
    "  next_record = iterator.get_next()\n",
    "\n",
    "  # init a session, copying the information to the placeholders\n",
    "  i = 0\n",
    "  with tf.Session() as sess:\n",
    "    while i < n_test_samples:\n",
    "      images[i,], labels[i] = sess.run(next_record)\n",
    "      i += 1\n",
    "      \n",
    "  return images, labels"
   ]
  },
  {
   "cell_type": "code",
   "execution_count": 0,
   "metadata": {
    "colab": {},
    "colab_type": "code",
    "id": "5HUdkKmtm8-E"
   },
   "outputs": [],
   "source": [
    "def compute_auc(model, images, labels, target_names, title):\n",
    "  ''' Computes the ROC and AUC for a given model\n",
    "      and a specific test set.\n",
    "      \n",
    "      Parameters:\n",
    "        model -- The trained model\n",
    "        images -- Images of the test set\n",
    "        labels -- Labels for the images\n",
    "        target_names -- Names for the labels\n",
    "  '''\n",
    "  n_classes = len(target_names)\n",
    "  y_true = tf.keras.utils.to_categorical(labels, n_classes)\n",
    "  y_pred = model.predict(x=images)\n",
    "  \n",
    "  fpr = dict()\n",
    "  tpr = dict()\n",
    "  roc_auc = dict()\n",
    "  for i in range(n_classes):\n",
    "    fpr[i], tpr[i], _ = skmetrics.roc_curve(y_true[:, i], y_pred[:, i])\n",
    "    roc_auc[i] = skmetrics.auc(fpr[i], tpr[i])\n",
    "  \n",
    "  # compute micro-average ROC curve and ROC area\n",
    "  fpr['micro'], tpr['micro'], _ = skmetrics.roc_curve(y_true.ravel(), y_pred.ravel())\n",
    "  roc_auc['micro'] = skmetrics.auc(fpr['micro'], tpr['micro'])\n",
    "  \n",
    "  # compute macro-average ROC curve and ROC area\n",
    "  # first aggregate all false positive rates\n",
    "  all_fpr = np.unique(np.concatenate([fpr[i] for i in range(n_classes)]))\n",
    "\n",
    "  # Then interpolate all ROC curves at this points\n",
    "  mean_tpr = np.zeros_like(all_fpr)\n",
    "  for i in range(n_classes):\n",
    "      mean_tpr += interp(all_fpr, fpr[i], tpr[i])\n",
    "\n",
    "  # finally average it and compute AUC\n",
    "  mean_tpr /= n_classes\n",
    "\n",
    "  fpr['macro'] = all_fpr\n",
    "  tpr['macro'] = mean_tpr\n",
    "  roc_auc['macro'] = skmetrics.auc(fpr['macro'], tpr['macro'])\n",
    "\n",
    "  # plot all ROC curves\n",
    "  plt.figure(figsize=(10, 10))\n",
    "  plt.plot(fpr['micro'], tpr['micro'],\n",
    "           label='micro-average ROC curve (area = {0:0.2f})'\n",
    "                 ''.format(roc_auc['micro']),\n",
    "           color='deeppink', linestyle=':', linewidth=4)\n",
    "\n",
    "  plt.plot(fpr['macro'], tpr['macro'],\n",
    "           label='macro-average ROC curve (area = {0:0.2f})'\n",
    "                 ''.format(roc_auc[\"macro\"]),\n",
    "           color='navy', linestyle=':', linewidth=4)\n",
    "\n",
    "  colors = cycle(['aqua', 'darkorange', 'cornflowerblue'])\n",
    "  for i, color in zip(range(n_classes), colors):\n",
    "      plt.plot(fpr[i], tpr[i], color=color, lw=2,\n",
    "               label='ROC curve of class {0} (area = {1:0.2f})'\n",
    "               ''.format(target_names[i], roc_auc[i]))\n",
    "\n",
    "  plt.plot([0, 1], [0, 1], 'k--', lw=2)\n",
    "  plt.xlim([0.0, 1.0])\n",
    "  plt.ylim([0.0, 1.05])\n",
    "  plt.xlabel('False Positive Rate')\n",
    "  plt.ylabel('True Positive Rate')\n",
    "  plt.title(title)\n",
    "  plt.legend(loc=\"lower right\")\n",
    "  \n",
    "  export_file = '-'.join(title.split()) + '.png'\n",
    "  plt.savefig(os.path.join(DB_MODELS, export_file))\n",
    "  \n",
    "  plt.show()"
   ]
  },
  {
   "cell_type": "code",
   "execution_count": 0,
   "metadata": {
    "colab": {},
    "colab_type": "code",
    "id": "4a_w7Yr9m8-J"
   },
   "outputs": [],
   "source": [
    "def classification_report(model, images, labels, target_names, output_file):\n",
    "  ''' Prints the classification report for a given model and\n",
    "      a specific test set. Exports it to a .json file\n",
    "      \n",
    "      Parameters:\n",
    "        model -- The trained model\n",
    "        images -- Images of the test set\n",
    "        labels -- Labels of the images\n",
    "        target_names -- Names of the labels\n",
    "        output_file -- Name and path of the output json file\n",
    "  '''\n",
    "  \n",
    "  n_classes = len(target_names)\n",
    "  y_true = tf.keras.utils.to_categorical(labels, n_classes)\n",
    "  predictions = model.predict(x=images)\n",
    "  \n",
    "  output = skmetrics.classification_report(labels, predictions.argmax(axis=1), \n",
    "                                           target_names=target_names, output_dict=True)\n",
    "  print(json.dumps(output, indent=4))\n",
    "  \n",
    "  with open(os.path.join(DB_MODELS, output_file + '.json'), 'w') as output_json:\n",
    "    json.dump(output, output_json, indent=4)"
   ]
  },
  {
   "cell_type": "markdown",
   "metadata": {
    "colab_type": "text",
    "id": "xFbrsaxCvnYV"
   },
   "source": [
    "---\n",
    "### MULTICLASS CLASSIFICATION MODEL\n"
   ]
  },
  {
   "cell_type": "code",
   "execution_count": 0,
   "metadata": {
    "colab": {},
    "colab_type": "code",
    "id": "f_plOwRlwb0p"
   },
   "outputs": [],
   "source": [
    "BATCH_SIZE = 8\n",
    "STEPS_PER_EPOCH = int(n_training_samples / BATCH_SIZE)\n",
    "VALIDATION_STEPS = int(n_val_samples / BATCH_SIZE)"
   ]
  },
  {
   "cell_type": "code",
   "execution_count": 0,
   "metadata": {
    "colab": {},
    "colab_type": "code",
    "id": "xOZZtbkEm-M-"
   },
   "outputs": [],
   "source": [
    "image_tensor, label_tensor = dataset_parser(training_tfrec, BATCH_SIZE, preprocessing_fn=whitening_fn)"
   ]
  },
  {
   "cell_type": "code",
   "execution_count": 0,
   "metadata": {
    "colab": {},
    "colab_type": "code",
    "id": "FTyyq1gHSu8Q"
   },
   "outputs": [],
   "source": [
    "base_model = Resnet3DBuilder.build_resnet_34(\n",
    "    input_shape=IMG_SHAPE,\n",
    "    num_outputs=N_CLASSES,\n",
    "    reg_factor=0.01\n",
    ")\n",
    "\n",
    "fc_layer = tf.keras.layers.Dense(512, activation='relu')(base_model.layers[-2].output)\n",
    "fc_layer = tf.keras.layers.Dropout(0.8)(fc_layer)\n",
    "output_layer = tf.keras.layers.Dense(N_CLASSES, activation='softmax')(fc_layer)\n",
    "model = tf.keras.models.Model(inputs=base_model.input, outputs=output_layer)"
   ]
  },
  {
   "cell_type": "code",
   "execution_count": 0,
   "metadata": {
    "colab": {},
    "colab_type": "code",
    "id": "3InTJbHWZ_he"
   },
   "outputs": [],
   "source": [
    "optimizer = tf.keras.optimizers.Adam(lr=0.001)\n",
    "model.compile(optimizer=optimizer, \n",
    "              loss='categorical_crossentropy', \n",
    "              metrics=['acc'])"
   ]
  },
  {
   "cell_type": "markdown",
   "metadata": {
    "colab_type": "text",
    "id": "dQSSczFBN1mx"
   },
   "source": [
    "\n",
    "\n",
    "#### Training\n"
   ]
  },
  {
   "cell_type": "code",
   "execution_count": 0,
   "metadata": {
    "colab": {},
    "colab_type": "code",
    "id": "5l0cIaz8j4-Z"
   },
   "outputs": [],
   "source": [
    "val_tensor = dataset_parser(validation_tfrec, BATCH_SIZE, preprocessing_fn=whitening_fn) "
   ]
  },
  {
   "cell_type": "code",
   "execution_count": 0,
   "metadata": {
    "colab": {},
    "colab_type": "code",
    "id": "Y-hZGngLX48-"
   },
   "outputs": [],
   "source": [
    "class EarlyStoppingByLossVal(tf.keras.callbacks.Callback):\n",
    "  ''' Define an early stopping callback to stop training\n",
    "      when a certain validation loss value is achieved.\n",
    "  '''\n",
    "  \n",
    "  def __init__(self, monitor='val_loss', value=1.4, verbose=0):\n",
    "    ''' Initialization '''\n",
    "    super(tf.keras.callbacks.Callback, self).__init__()\n",
    "    self.monitor = monitor\n",
    "    self.value = value\n",
    "    self.verbose = verbose\n",
    "\n",
    "  def on_epoch_end(self, epoch, logs={}):\n",
    "    ''' Check, on epoch end, if the validation loss\n",
    "        value is smaller than the threshold\n",
    "    '''\n",
    "    current = logs.get(self.monitor)\n",
    "    if current is None:\n",
    "      warnings.warn(\"Early stopping requires %s available!\" % self.monitor, RuntimeWarning)\n",
    "\n",
    "    if current < self.value:\n",
    "      if self.verbose > 0:\n",
    "        print(\"Epoch %05d: early stopping THR\" % epoch)\n",
    "      self.model.stop_training = True"
   ]
  },
  {
   "cell_type": "code",
   "execution_count": 0,
   "metadata": {
    "colab": {},
    "colab_type": "code",
    "id": "Aj3b1iB-aBsd"
   },
   "outputs": [],
   "source": [
    "callback = EarlyStoppingByLossVal(value=1.1)"
   ]
  },
  {
   "cell_type": "code",
   "execution_count": 54,
   "metadata": {
    "colab": {
     "base_uri": "https://localhost:8080/",
     "height": 259
    },
    "colab_type": "code",
    "executionInfo": {
     "elapsed": 3023002,
     "status": "ok",
     "timestamp": 1560281267867,
     "user": {
      "displayName": "Oscar Darias",
      "photoUrl": "https://lh5.googleusercontent.com/-LRfbx-yLpIQ/AAAAAAAAAAI/AAAAAAAARJA/7oZPXtss-vU/s64/photo.jpg",
      "userId": "01395086989309546998"
     },
     "user_tz": -60
    },
    "id": "8WnFZCxgaNT3",
    "outputId": "18f16f9c-a83a-4ad5-b8d5-4f7126dae5e8"
   },
   "outputs": [
    {
     "name": "stdout",
     "output_type": "stream",
     "text": [
      "Epoch 1/20\n",
      "286/286 [==============================] - 443s 2s/step - loss: 9.0802 - acc: 0.4655 - val_loss: 1.2705 - val_acc: 0.5525\n",
      "Epoch 2/20\n",
      "286/286 [==============================] - 427s 1s/step - loss: 1.2964 - acc: 0.4965 - val_loss: 1.8171 - val_acc: 0.5525\n",
      "Epoch 3/20\n",
      "286/286 [==============================] - 427s 1s/step - loss: 1.3012 - acc: 0.5039 - val_loss: 1.2264 - val_acc: 0.5175\n",
      "Epoch 4/20\n",
      "286/286 [==============================] - 427s 1s/step - loss: 1.4621 - acc: 0.5070 - val_loss: 1.1464 - val_acc: 0.5425\n",
      "Epoch 5/20\n",
      "286/286 [==============================] - 427s 1s/step - loss: 1.1430 - acc: 0.5114 - val_loss: 1.1444 - val_acc: 0.5075\n",
      "Epoch 6/20\n",
      "286/286 [==============================] - 427s 1s/step - loss: 2.2860 - acc: 0.5026 - val_loss: 1.5342 - val_acc: 0.5600\n",
      "Epoch 7/20\n",
      "286/286 [==============================] - 417s 1s/step - loss: 1.1193 - acc: 0.5092 - val_loss: 1.0574 - val_acc: 0.5000\n"
     ]
    }
   ],
   "source": [
    "history = model.fit(x=image_tensor, y=label_tensor, \n",
    "                    epochs=20, steps_per_epoch=STEPS_PER_EPOCH, \n",
    "                    validation_data=val_tensor, \n",
    "                    validation_steps=VALIDATION_STEPS,\n",
    "                    callbacks=[callback])"
   ]
  },
  {
   "cell_type": "code",
   "execution_count": 55,
   "metadata": {
    "colab": {
     "base_uri": "https://localhost:8080/",
     "height": 519
    },
    "colab_type": "code",
    "executionInfo": {
     "elapsed": 3012157,
     "status": "ok",
     "timestamp": 1560281268490,
     "user": {
      "displayName": "Oscar Darias",
      "photoUrl": "https://lh5.googleusercontent.com/-LRfbx-yLpIQ/AAAAAAAAAAI/AAAAAAAARJA/7oZPXtss-vU/s64/photo.jpg",
      "userId": "01395086989309546998"
     },
     "user_tz": -60
    },
    "id": "hJrvgLsXFViz",
    "outputId": "1f2ebffd-fb62-4c8e-c6c8-5340e6fb5f84"
   },
   "outputs": [
    {
     "data": {
      "image/png": "[encoded data removed]",
      "text/plain": [
       "<Figure size 1440x576 with 2 Axes>"
      ]
     },
     "metadata": {
      "tags": []
     },
     "output_type": "display_data"
    }
   ],
   "source": [
    "plot_training(history, 'Training vs epochs - 34 layers')"
   ]
  },
  {
   "cell_type": "markdown",
   "metadata": {
    "colab_type": "text",
    "id": "mPn1vubXN_qz"
   },
   "source": [
    "\n",
    "\n",
    "#### Saving and loading\n",
    "\n",
    "Save the model at this point:"
   ]
  },
  {
   "cell_type": "code",
   "execution_count": 0,
   "metadata": {
    "colab": {},
    "colab_type": "code",
    "id": "TDEbl9obOByU"
   },
   "outputs": [],
   "source": [
    "MC_CHECKPOINT = 'multiclass_resnet_34_3d_trained_regfactor003'"
   ]
  },
  {
   "cell_type": "code",
   "execution_count": 0,
   "metadata": {
    "colab": {},
    "colab_type": "code",
    "id": "eEqBfaUvPswd"
   },
   "outputs": [],
   "source": [
    "model_file = os.path.join(DB_MODELS, MC_CHECKPOINT) + '.h5'"
   ]
  },
  {
   "cell_type": "code",
   "execution_count": 0,
   "metadata": {
    "colab": {},
    "colab_type": "code",
    "id": "qW3xYfyxh1zD"
   },
   "outputs": [],
   "source": [
    "model.save(model_file)"
   ]
  },
  {
   "cell_type": "markdown",
   "metadata": {
    "colab_type": "text",
    "id": "MGCQ6Cu4QLjf"
   },
   "source": [
    "For loading, run the following cell:"
   ]
  },
  {
   "cell_type": "code",
   "execution_count": 0,
   "metadata": {
    "colab": {},
    "colab_type": "code",
    "id": "3RUXo5EXiAFK"
   },
   "outputs": [],
   "source": [
    "model = tf.keras.models.load_model(model_file)"
   ]
  },
  {
   "cell_type": "markdown",
   "metadata": {
    "colab_type": "text",
    "id": "17UYe2qJ5J8M"
   },
   "source": [
    "#### Testing"
   ]
  },
  {
   "cell_type": "code",
   "execution_count": 0,
   "metadata": {
    "colab": {},
    "colab_type": "code",
    "id": "-uR93Cb4XUza"
   },
   "outputs": [],
   "source": [
    "images, labels = get_data_for_predict(test_tfrec, _decode, preprocessing_fn=whitening_fn)"
   ]
  },
  {
   "cell_type": "code",
   "execution_count": 56,
   "metadata": {
    "colab": {
     "base_uri": "https://localhost:8080/",
     "height": 642
    },
    "colab_type": "code",
    "executionInfo": {
     "elapsed": 3025661,
     "status": "ok",
     "timestamp": 1560281290193,
     "user": {
      "displayName": "Oscar Darias",
      "photoUrl": "https://lh5.googleusercontent.com/-LRfbx-yLpIQ/AAAAAAAAAAI/AAAAAAAARJA/7oZPXtss-vU/s64/photo.jpg",
      "userId": "01395086989309546998"
     },
     "user_tz": -60
    },
    "id": "V1Gq1IsX_y5f",
    "outputId": "4bec9975-7334-4793-c9bf-ba1874d6e2f9"
   },
   "outputs": [
    {
     "name": "stdout",
     "output_type": "stream",
     "text": [
      "{\n",
      "    \"CN\": {\n",
      "        \"precision\": 0.0,\n",
      "        \"recall\": 0.0,\n",
      "        \"f1-score\": 0.0,\n",
      "        \"support\": 131\n",
      "    },\n",
      "    \"MCI\": {\n",
      "        \"precision\": 0.5315126050420168,\n",
      "        \"recall\": 1.0,\n",
      "        \"f1-score\": 0.6941015089163238,\n",
      "        \"support\": 253\n",
      "    },\n",
      "    \"AD\": {\n",
      "        \"precision\": 0.0,\n",
      "        \"recall\": 0.0,\n",
      "        \"f1-score\": 0.0,\n",
      "        \"support\": 92\n",
      "    },\n",
      "    \"accuracy\": 0.5315126050420168,\n",
      "    \"macro avg\": {\n",
      "        \"precision\": 0.17717086834733894,\n",
      "        \"recall\": 0.3333333333333333,\n",
      "        \"f1-score\": 0.2313671696387746,\n",
      "        \"support\": 476\n",
      "    },\n",
      "    \"weighted avg\": {\n",
      "        \"precision\": 0.28250564931855093,\n",
      "        \"recall\": 0.5315126050420168,\n",
      "        \"f1-score\": 0.36892370116770995,\n",
      "        \"support\": 476\n",
      "    }\n",
      "}\n"
     ]
    },
    {
     "name": "stderr",
     "output_type": "stream",
     "text": [
      "/usr/local/lib/python3.6/dist-packages/sklearn/metrics/classification.py:1437: UndefinedMetricWarning: Precision and F-score are ill-defined and being set to 0.0 in labels with no predicted samples.\n",
      "  'precision', 'predicted', average, warn_for)\n"
     ]
    }
   ],
   "source": [
    "classification_report(model, images, labels, LABELS, 'classification_report - 34 layers')"
   ]
  },
  {
   "cell_type": "code",
   "execution_count": 57,
   "metadata": {
    "colab": {
     "base_uri": "https://localhost:8080/",
     "height": 621
    },
    "colab_type": "code",
    "executionInfo": {
     "elapsed": 3037592,
     "status": "ok",
     "timestamp": 1560281308644,
     "user": {
      "displayName": "Oscar Darias",
      "photoUrl": "https://lh5.googleusercontent.com/-LRfbx-yLpIQ/AAAAAAAAAAI/AAAAAAAARJA/7oZPXtss-vU/s64/photo.jpg",
      "userId": "01395086989309546998"
     },
     "user_tz": -60
    },
    "id": "F-wZvkbGd0uW",
    "outputId": "0507d84f-4b9c-4fff-fc7c-07fb93a964db"
   },
   "outputs": [
    {
     "data": {
      "image/png": "[encoded data removed]",
      "text/plain": [
       "<Figure size 720x720 with 1 Axes>"
      ]
     },
     "metadata": {
      "tags": []
     },
     "output_type": "display_data"
    }
   ],
   "source": [
    "compute_auc(model, images, labels, ['CN', 'MCI', 'AD'], title='AUC 34 layers')"
   ]
  }
 ],
 "metadata": {
  "accelerator": "GPU",
  "colab": {
   "collapsed_sections": [],
   "name": "Using a Resnet3D.ipynb",
   "provenance": [],
   "version": "0.3.2"
  },
  "kernelspec": {
   "display_name": "Python 3",
   "language": "python",
   "name": "python3"
  },
  "language_info": {
   "codemirror_mode": {
    "name": "ipython",
    "version": 3
   },
   "file_extension": ".py",
   "mimetype": "text/x-python",
   "name": "python",
   "nbconvert_exporter": "python",
   "pygments_lexer": "ipython3",
   "version": "3.8.8"
  }
 },
 "nbformat": 4,
 "nbformat_minor": 1
}
