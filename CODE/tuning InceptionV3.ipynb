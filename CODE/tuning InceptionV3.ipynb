{
 "cells": [
  {
   "cell_type": "markdown",
   "metadata": {
    "colab_type": "text",
    "id": "BhLICdRVoJHA"
   },
   "source": [
    "# Fine-Tunning of InceptionV3 network for Alzheimer Diagnosis\n",
    "\n",
    "In this notebook, we are going to import a Keras InceptionV3 network, pre-trained on ImageNet, and perform fine-tunning for the task of Alzheimer Diagnosis. We already have a TFRecords database with 2D images.\n",
    "\n"
   ]
  },
  {
   "cell_type": "markdown",
   "metadata": {
    "colab_type": "text",
    "id": "ZS_mV5AnougO"
   },
   "source": [
    "Then, we have to import all the libraries that we are going to need:"
   ]
  },
  {
   "cell_type": "code",
   "execution_count": 0,
   "metadata": {
    "colab": {},
    "colab_type": "code",
    "id": "yxmO7dD8nmGO"
   },
   "outputs": [],
   "source": [
    "import tensorflow as tf\n",
    "import numpy as np\n",
    "\n",
    "from tensorflow import keras\n",
    "from skimage import filters\n",
    "from matplotlib import pyplot as plt\n",
    "from sklearn import metrics as skmetrics\n",
    "from scipy import interp\n",
    "from itertools import cycle\n",
    "\n",
    "import os\n",
    "import collections\n",
    "import json"
   ]
  },
  {
   "cell_type": "markdown",
   "metadata": {
    "colab_type": "text",
    "id": "02oqBTZdoxu0"
   },
   "source": [
    "Specify the path to the TFRecords files, as well as the names of the files."
   ]
  },
  {
   "cell_type": "code",
   "execution_count": 0,
   "metadata": {
    "colab": {},
    "colab_type": "code",
    "id": "vsVoWxgNnrXB"
   },
   "outputs": [],
   "source": [
    "# 2D supervised TFRecords databases\n",
    "DB_TF_2D_PATH ='/content/drive/MyDrive/TF_RECORDS/TF_RECORDS_2D/'\n",
    "\n",
    "# training files\n",
    "\n",
    "TFREC_2D_SS_TRAIN = 'train.2D.skull_stripped.tfrecords'\n",
    "TFREC_2D_BIN_TRAIN = 'train.2D.binary.tfrecords'\n",
    "\n",
    "# validation files\n",
    "\n",
    "TFREC_2D_SS_VAL = 'validation.2D.skull_stripped.tfrecords'\n",
    "TFREC_2D_BIN_VAL = 'validation.2D.binary.tfrecords'\n",
    "\n",
    "# test files\n",
    "\n",
    "TFREC_2D_SS_TEST = 'test.2D.skull_stripped.tfrecords'\n",
    "TFREC_2D_BIN_TEST = 'test.2D.binary.tfrecords'"
   ]
  },
  {
   "cell_type": "code",
   "execution_count": 0,
   "metadata": {
    "colab": {},
    "colab_type": "code",
    "id": "UIivz8Gs9j6w"
   },
   "outputs": [],
   "source": [
    "DB_MODELS = '/content/drive/MyDrive/MODELS/fine_tuned_inception_v3'"
   ]
  },
  {
   "cell_type": "markdown",
   "metadata": {
    "colab_type": "text",
    "id": "_WYYDdDqpDUf"
   },
   "source": [
    "Also, create constants with the shape of the images and a dictionary with the class labels."
   ]
  },
  {
   "cell_type": "code",
   "execution_count": 0,
   "metadata": {
    "colab": {},
    "colab_type": "code",
    "id": "4hf7nrrfnvm-"
   },
   "outputs": [],
   "source": [
    "LABELS = {'CN': 0, 'MCI': 1, 'AD': 2}\n",
    "BINARY_LABELS = {'CN': 0, 'AD': 1}\n",
    "\n",
    "ORIGINAL_IMG_SHAPE = (78, 110, 86)\n",
    "IMG_2D_SHAPE = (ORIGINAL_IMG_SHAPE[1] * 4, \n",
    "                ORIGINAL_IMG_SHAPE[2] * 4, \n",
    "                1)\n",
    "IMG_RGB_SHAPE = (ORIGINAL_IMG_SHAPE[1] * 4, \n",
    "                 ORIGINAL_IMG_SHAPE[2] * 4, \n",
    "                 3)\n",
    "\n",
    "TEST_SPLIT = 0.15\n",
    "VALIDATION_SPLIT = 0.15"
   ]
  },
  {
   "cell_type": "code",
   "execution_count": 0,
   "metadata": {
    "colab": {},
    "colab_type": "code",
    "id": "Sv0MTISOQbEw"
   },
   "outputs": [],
   "source": [
    "def plot_training(history, title):\n",
    "  ''' Plot the training and validation loss + accuracy\n",
    "  '''\n",
    "  \n",
    "  acc = history.history['acc']\n",
    "  val_acc = history.history['val_acc']\n",
    "  loss = history.history['loss']\n",
    "  val_loss = history.history['val_loss']\n",
    "  epochs = range(len(acc))\n",
    "  \n",
    "  plt.figure(figsize=(20, 8))\n",
    "\n",
    "  plt.subplot(121)\n",
    "  plt.plot(epochs, acc, 'r.')\n",
    "  plt.plot(epochs, val_acc, 'r')\n",
    "  plt.legend(('Training accuracy', 'Validation accuracy'),\n",
    "             loc='upper right')\n",
    "  plt.title(title + '- Accuracy')\n",
    "\n",
    "  plt.subplot(122)\n",
    "  plt.plot(epochs, loss, 'b.')\n",
    "  plt.plot(epochs, val_loss, 'b')\n",
    "  plt.legend(('Training loss', 'Validation loss'),\n",
    "             loc='upper right')\n",
    "  plt.title(title + '- Loss')\n",
    "  \n",
    "  export_file = '-'.join(title.split()) + '.png'\n",
    "  plt.savefig(os.path.join(DB_MODELS, export_file))\n",
    "  \n",
    "  plt.show()"
   ]
  },
  {
   "cell_type": "markdown",
   "metadata": {
    "colab_type": "text",
    "id": "moIGQKsw2yJH"
   },
   "source": [
    "---\n",
    "\n",
    "### Checking TFRecords data\n"
   ]
  },
  {
   "cell_type": "code",
   "execution_count": 0,
   "metadata": {
    "colab": {},
    "colab_type": "code",
    "id": "pwRlEPfqIeiV"
   },
   "outputs": [],
   "source": [
    "training_tfrec = os.path.join(DB_TF_2D_PATH, TFREC_2D_BIN_TRAIN)\n",
    "validation_tfrec = os.path.join(DB_TF_2D_PATH, TFREC_2D_BIN_VAL)\n",
    "test_tfrec = os.path.join(DB_TF_2D_PATH, TFREC_2D_BIN_TEST)"
   ]
  },
  {
   "cell_type": "code",
   "execution_count": 0,
   "metadata": {
    "colab": {},
    "colab_type": "code",
    "id": "jf9UG3r7_aLp"
   },
   "outputs": [],
   "source": [
    "n_training_samples = 1658\n",
    "n_val_samples = 292\n",
    "n_test_samples = 344\n",
    "total_n_samples = n_training_samples + n_val_samples + n_test_samples"
   ]
  },
  {
   "cell_type": "markdown",
   "metadata": {
    "colab_type": "text",
    "id": "SExKyFw1pY60"
   },
   "source": [
    "---\n",
    "\n",
    "### Importing TFRecords"
   ]
  },
  {
   "cell_type": "code",
   "execution_count": 0,
   "metadata": {
    "colab": {},
    "colab_type": "code",
    "id": "ySMShHNiswS7"
   },
   "outputs": [],
   "source": [
    "SHUFFLE_BUFFER = 100"
   ]
  },
  {
   "cell_type": "code",
   "execution_count": 0,
   "metadata": {
    "colab": {},
    "colab_type": "code",
    "id": "OoaDYqKwp66h"
   },
   "outputs": [],
   "source": [
    "def decode(serialized_example):\n",
    "  \n",
    "  # decode examples stored in TFRecord\n",
    "  feature = tf.parse_single_example(\n",
    "      serialized_example,\n",
    "      features = {\n",
    "          'image': tf.FixedLenFeature(IMG_RGB_SHAPE, tf.float32),\n",
    "          'label': tf.FixedLenFeature([], tf.int64)\n",
    "      }\n",
    "  )\n",
    "  \n",
    "  return feature['image'], feature['label']"
   ]
  },
  {
   "cell_type": "code",
   "execution_count": 0,
   "metadata": {
    "colab": {},
    "colab_type": "code",
    "id": "iU-52X7Iq2AT"
   },
   "outputs": [],
   "source": [
    "def dataset_parser(filepath, batch_size, n_classes, use_undersampling=False):\n",
    "  ''' This method is a pipeline for feeding\n",
    "      tfrecord data into a Keras model.\n",
    "      \n",
    "      Parameters:\n",
    "        filepath -- The complete path to the TFRecord file\n",
    "        batch_size\n",
    "        n_classes \n",
    "        \n",
    "      Returns:\n",
    "        image -- Tensor with the image\n",
    "        label -- Tensor with the label\n",
    "  '''\n",
    "  \n",
    "  # create and configure the dataset\n",
    "  dataset = tf.data.TFRecordDataset(filepath).map(decode)\n",
    "  dataset = dataset.shuffle(SHUFFLE_BUFFER, seed=tf.random.set_random_seed(21))\n",
    "  dataset = dataset.repeat()\n",
    "  \n",
    "  if use_undersampling:\n",
    "    resampler = tf.data.experimental.rejection_resample(\n",
    "        class_func=lambda _, label: label,\n",
    "        target_dist=[0.3, 0.4, 0.3])\n",
    "        # maybe we'll need to use initial_dist\n",
    "    dataset = dataset.apply(resampler)\n",
    "      \n",
    "    # return to the same dataset shape as was the original\n",
    "    # using rejection resamples changes that\n",
    "    dataset = dataset.map(lambda _, data: (data))\n",
    "  \n",
    "  dataset = dataset.batch(batch_size)\n",
    "  dataset = dataset.prefetch(1)\n",
    "  \n",
    "  # get example\n",
    "  iterator = dataset.make_one_shot_iterator()\n",
    "  image, label = iterator.get_next()\n",
    "  \n",
    "  # encode the label\n",
    "  label = tf.one_hot(label, n_classes)\n",
    "  # give the image three channels\n",
    "  #image = tf.image.grayscale_to_rgb(image)\n",
    "  \n",
    "  return image, label"
   ]
  },
  {
   "cell_type": "code",
   "execution_count": 0,
   "metadata": {
    "colab": {},
    "colab_type": "code",
    "id": "LaHeCjv02zGm"
   },
   "outputs": [],
   "source": [
    "def get_n_samples(tfrec, decoding_fn):\n",
    "  '''\n",
    "  '''\n",
    "  \n",
    "  # create the iterator for the TFRecord\n",
    "  dataset = tf.data.TFRecordDataset(tfrec).map(decoding_fn)\n",
    "  dataset = dataset.map(lambda img, label: (tf.image.grayscale_to_rgb(img), label))\n",
    "  \n",
    "  '''resampler = tf.data.experimental.rejection_resample(\n",
    "        class_func=lambda _, label: label,\n",
    "        target_dist=[0.3, 0.4, 0.3])\n",
    "  \n",
    "  dataset = dataset.apply(resampler)'''\n",
    "      \n",
    "  # return to the same dataset shape as was the original\n",
    "  # using rejection resamples changes that\n",
    "  dataset = dataset.map(lambda _, data: (data))\n",
    "  \n",
    "  iterator = dataset.make_one_shot_iterator()\n",
    "  next_record = iterator.get_next()\n",
    "\n",
    "  # init a session, copying the information to the placeholders\n",
    "  n_samples = 0\n",
    "  with tf.Session() as sess:\n",
    "    try:\n",
    "      while True:\n",
    "        sess.run(next_record)\n",
    "        n_samples += 1\n",
    "    except:\n",
    "      pass\n",
    "      \n",
    "  return n_samples"
   ]
  },
  {
   "cell_type": "markdown",
   "metadata": {
    "colab_type": "text",
    "id": "xFbrsaxCvnYV"
   },
   "source": [
    "---\n",
    "### Model building\n"
   ]
  },
  {
   "cell_type": "code",
   "execution_count": 0,
   "metadata": {
    "colab": {},
    "colab_type": "code",
    "id": "f_plOwRlwb0p"
   },
   "outputs": [],
   "source": [
    "UNDERSAMPLING = False\n",
    "BATCH_SIZE = 8\n",
    "\n",
    "if UNDERSAMPLING:\n",
    "  n_training_samples = get_n_samples(training_tfrec, decode)\n",
    "  n_val_samples = get_n_samples(validation_tfrec, decode)\n",
    "  \n",
    "STEPS_PER_EPOCH = int(n_training_samples / BATCH_SIZE)\n",
    "VALIDATION_STEPS = int(n_val_samples / BATCH_SIZE)\n",
    "\n",
    "n_classes = len(BINARY_LABELS)"
   ]
  },
  {
   "cell_type": "code",
   "execution_count": 0,
   "metadata": {
    "colab": {},
    "colab_type": "code",
    "id": "YBCjxRz5KvIg"
   },
   "outputs": [],
   "source": [
    "image_tensor, label_tensor = dataset_parser(training_tfrec, \n",
    "                                            BATCH_SIZE, \n",
    "                                            n_classes, \n",
    "                                            use_undersampling=UNDERSAMPLING)"
   ]
  },
  {
   "cell_type": "code",
   "execution_count": 0,
   "metadata": {
    "colab": {},
    "colab_type": "code",
    "id": "q2QSpu2Wpb4Z"
   },
   "outputs": [],
   "source": [
    "base_model = tf.keras.applications.inception_v3.InceptionV3(\n",
    "    input_shape=(IMG_2D_SHAPE[0], IMG_2D_SHAPE[1], 3), \n",
    "    weights='imagenet', \n",
    "    include_top=False,\n",
    "    pooling='max')"
   ]
  },
  {
   "cell_type": "code",
   "execution_count": 0,
   "metadata": {
    "colab": {
     "base_uri": "https://localhost:8080/",
     "height": 74
    },
    "colab_type": "code",
    "executionInfo": {
     "elapsed": 16892,
     "status": "ok",
     "timestamp": 1561718913483,
     "user": {
      "displayName": "Oscar Darias",
      "photoUrl": "https://lh5.googleusercontent.com/-LRfbx-yLpIQ/AAAAAAAAAAI/AAAAAAAARJA/7oZPXtss-vU/s64/photo.jpg",
      "userId": "01395086989309546998"
     },
     "user_tz": -60
    },
    "id": "csgXh-XW9Zrt",
    "outputId": "87e4003f-f390-45f4-f3a8-d7eef247363c"
   },
   "outputs": [
    {
     "name": "stderr",
     "output_type": "stream",
     "text": [
      "W0628 10:48:32.772597 140378777569152 nn_ops.py:4224] Large dropout rate: 0.8 (>0.5). In TensorFlow 2.x, dropout() uses dropout rate instead of keep_prob. Please ensure that this is intended.\n"
     ]
    }
   ],
   "source": [
    "base_output = base_model.output\n",
    "hidden_layer = tf.keras.layers.Dense(512, activation='relu')(base_output)\n",
    "hl_reg = tf.keras.layers.Dropout(0.8)(hidden_layer)\n",
    "output_layer = tf.keras.layers.Dense(n_classes, activation='softmax')(hl_reg)\n",
    "\n",
    "model = tf.keras.models.Model(inputs=base_model.input, outputs=output_layer)"
   ]
  },
  {
   "cell_type": "markdown",
   "metadata": {
    "colab_type": "text",
    "id": "dQSSczFBN1mx"
   },
   "source": [
    "---\n",
    "\n",
    "### Training stage 1\n",
    "\n",
    "Train the top fully connected layer."
   ]
  },
  {
   "cell_type": "code",
   "execution_count": 0,
   "metadata": {
    "colab": {},
    "colab_type": "code",
    "id": "6-tpEwIkmqg4"
   },
   "outputs": [],
   "source": [
    "# load validation data tensors\n",
    "val_img_tensor, val_label_tensor = dataset_parser(validation_tfrec, \n",
    "                                                  BATCH_SIZE, \n",
    "                                                  n_classes)"
   ]
  },
  {
   "cell_type": "code",
   "execution_count": 0,
   "metadata": {
    "colab": {
     "base_uri": "https://localhost:8080/",
     "height": 357
    },
    "colab_type": "code",
    "executionInfo": {
     "elapsed": 286035,
     "status": "ok",
     "timestamp": 1561719186688,
     "user": {
      "displayName": "Oscar Darias",
      "photoUrl": "https://lh5.googleusercontent.com/-LRfbx-yLpIQ/AAAAAAAAAAI/AAAAAAAARJA/7oZPXtss-vU/s64/photo.jpg",
      "userId": "01395086989309546998"
     },
     "user_tz": -60
    },
    "id": "DMegJHX48XUj",
    "outputId": "51457814-0b5d-467f-dbd5-379993ae256b"
   },
   "outputs": [
    {
     "name": "stdout",
     "output_type": "stream",
     "text": [
      "Epoch 1/10\n",
      "139/139 [==============================] - 33s 238ms/step - loss: 2.6013 - acc: 0.5108 - val_loss: 0.8857 - val_acc: 0.5260\n",
      "Epoch 2/10\n",
      "139/139 [==============================] - 26s 186ms/step - loss: 0.9569 - acc: 0.5522 - val_loss: 0.7596 - val_acc: 0.5417\n",
      "Epoch 3/10\n",
      "139/139 [==============================] - 26s 186ms/step - loss: 0.7359 - acc: 0.5585 - val_loss: 0.7399 - val_acc: 0.5104\n",
      "Epoch 4/10\n",
      "139/139 [==============================] - 26s 185ms/step - loss: 0.7056 - acc: 0.5809 - val_loss: 0.7521 - val_acc: 0.5260\n",
      "Epoch 5/10\n",
      "139/139 [==============================] - 26s 186ms/step - loss: 0.6936 - acc: 0.5674 - val_loss: 0.7187 - val_acc: 0.5573\n",
      "Epoch 6/10\n",
      "139/139 [==============================] - 26s 186ms/step - loss: 0.6805 - acc: 0.5647 - val_loss: 0.7696 - val_acc: 0.5260\n",
      "Epoch 7/10\n",
      "139/139 [==============================] - 26s 186ms/step - loss: 0.6897 - acc: 0.5818 - val_loss: 0.7252 - val_acc: 0.5260\n",
      "Epoch 8/10\n",
      "139/139 [==============================] - 26s 186ms/step - loss: 0.6780 - acc: 0.5944 - val_loss: 0.7324 - val_acc: 0.5208\n",
      "Epoch 9/10\n",
      "139/139 [==============================] - 26s 186ms/step - loss: 0.6875 - acc: 0.5818 - val_loss: 0.7093 - val_acc: 0.5312\n",
      "Epoch 10/10\n",
      "139/139 [==============================] - 26s 185ms/step - loss: 0.6822 - acc: 0.5935 - val_loss: 0.7364 - val_acc: 0.4948\n"
     ]
    }
   ],
   "source": [
    "fc_training = model.fit(x=image_tensor, y=label_tensor,\n",
    "                        epochs=10, steps_per_epoch=STEPS_PER_EPOCH, \n",
    "                        validation_data=(val_img_tensor, val_label_tensor),\n",
    "                        validation_steps=VALIDATION_STEPS)"
   ]
  },
  {
   "cell_type": "markdown",
   "metadata": {
    "colab_type": "text",
    "id": "mPn1vubXN_qz"
   },
   "source": [
    "---\n",
    "\n",
    "### Saving and loading\n",
    "\n",
    "Save the model at this point:"
   ]
  },
  {
   "cell_type": "code",
   "execution_count": 0,
   "metadata": {
    "colab": {},
    "colab_type": "code",
    "id": "TDEbl9obOByU"
   },
   "outputs": [],
   "source": [
    "CHECKPOINT_STAGE_1 = 'fine_tuned_inception_v3_fc_trained'\n",
    "model_file = os.path.join(DB_MODELS, CHECKPOINT_STAGE_1) + '.h5'"
   ]
  },
  {
   "cell_type": "code",
   "execution_count": 0,
   "metadata": {
    "colab": {},
    "colab_type": "code",
    "id": "eEqBfaUvPswd"
   },
   "outputs": [],
   "source": [
    "model.save(model_file) "
   ]
  },
  {
   "cell_type": "markdown",
   "metadata": {
    "colab_type": "text",
    "id": "MGCQ6Cu4QLjf"
   },
   "source": [
    "For loading, run the following cell:"
   ]
  },
  {
   "cell_type": "code",
   "execution_count": 0,
   "metadata": {
    "colab": {},
    "colab_type": "code",
    "id": "arX0LtmCDxWP"
   },
   "outputs": [],
   "source": [
    "model = tf.keras.models.load_model(model_file)"
   ]
  },
  {
   "cell_type": "markdown",
   "metadata": {
    "colab_type": "text",
    "id": "ay3mlWvsOc9B"
   },
   "source": [
    "---\n",
    "\n",
    "### Fine-tunning convolutions"
   ]
  },
  {
   "cell_type": "code",
   "execution_count": 0,
   "metadata": {
    "colab": {},
    "colab_type": "code",
    "id": "Pu0Hyjj7BtrN"
   },
   "outputs": [],
   "source": [
    "# we chose to train the top 2 inception blocks, i.e. we will freeze\n",
    "# the first 249 layers and unfreeze the rest:\n",
    "#for layer in model.layers[:249]:\n",
    "#  layer.trainable = False\n",
    "for layer in model.layers:\n",
    "  layer.trainable = True\n",
    "\n",
    "optimizer = tf.keras.optimizers.Adam(lr=0.0001, decay=1e-6)\n",
    "model.compile(optimizer=optimizer, loss='categorical_crossentropy', \n",
    "              metrics=['acc'])"
   ]
  },
  {
   "cell_type": "code",
   "execution_count": 0,
   "metadata": {
    "colab": {
     "base_uri": "https://localhost:8080/",
     "height": 697
    },
    "colab_type": "code",
    "executionInfo": {
     "elapsed": 1942513,
     "status": "ok",
     "timestamp": 1561720848568,
     "user": {
      "displayName": "Oscar Darias",
      "photoUrl": "https://lh5.googleusercontent.com/-LRfbx-yLpIQ/AAAAAAAAAAI/AAAAAAAARJA/7oZPXtss-vU/s64/photo.jpg",
      "userId": "01395086989309546998"
     },
     "user_tz": -60
    },
    "id": "_bXLj0DbCOmn",
    "outputId": "5276fb9a-4759-4469-b01f-dd52f62ef0d0"
   },
   "outputs": [
    {
     "name": "stdout",
     "output_type": "stream",
     "text": [
      "Epoch 1/20\n",
      "139/139 [==============================] - 95s 687ms/step - loss: 0.7205 - acc: 0.5647 - val_loss: 0.7729 - val_acc: 0.5469\n",
      "Epoch 2/20\n",
      "139/139 [==============================] - 82s 588ms/step - loss: 0.6964 - acc: 0.5809 - val_loss: 0.6788 - val_acc: 0.5781\n",
      "Epoch 3/20\n",
      "139/139 [==============================] - 82s 588ms/step - loss: 0.6825 - acc: 0.5917 - val_loss: 0.6821 - val_acc: 0.5573\n",
      "Epoch 4/20\n",
      "139/139 [==============================] - 82s 588ms/step - loss: 0.6994 - acc: 0.5944 - val_loss: 0.6864 - val_acc: 0.5208\n",
      "Epoch 5/20\n",
      "139/139 [==============================] - 82s 588ms/step - loss: 0.6579 - acc: 0.6259 - val_loss: 0.9557 - val_acc: 0.5781\n",
      "Epoch 6/20\n",
      "139/139 [==============================] - 82s 588ms/step - loss: 0.7303 - acc: 0.5899 - val_loss: 0.7918 - val_acc: 0.5625\n",
      "Epoch 7/20\n",
      "139/139 [==============================] - 82s 588ms/step - loss: 0.6236 - acc: 0.6223 - val_loss: 0.9863 - val_acc: 0.5469\n",
      "Epoch 8/20\n",
      "139/139 [==============================] - 82s 588ms/step - loss: 0.6359 - acc: 0.6529 - val_loss: 0.6884 - val_acc: 0.7031\n",
      "Epoch 9/20\n",
      "139/139 [==============================] - 81s 584ms/step - loss: 0.5498 - acc: 0.6960 - val_loss: 0.6458 - val_acc: 0.6927\n",
      "Epoch 10/20\n",
      "139/139 [==============================] - 82s 586ms/step - loss: 0.5139 - acc: 0.7752 - val_loss: 0.9280 - val_acc: 0.6510\n",
      "Epoch 11/20\n",
      "139/139 [==============================] - 82s 587ms/step - loss: 0.4439 - acc: 0.8040 - val_loss: 0.4889 - val_acc: 0.8125\n",
      "Epoch 12/20\n",
      "139/139 [==============================] - 81s 585ms/step - loss: 0.4100 - acc: 0.8372 - val_loss: 0.8331 - val_acc: 0.7552\n",
      "Epoch 13/20\n",
      "139/139 [==============================] - 81s 583ms/step - loss: 0.3445 - acc: 0.8741 - val_loss: 1.6339 - val_acc: 0.6094\n",
      "Epoch 14/20\n",
      "139/139 [==============================] - 81s 584ms/step - loss: 0.2419 - acc: 0.9200 - val_loss: 1.0193 - val_acc: 0.7917\n",
      "Epoch 15/20\n",
      "139/139 [==============================] - 81s 583ms/step - loss: 0.2131 - acc: 0.9353 - val_loss: 0.5810 - val_acc: 0.7656\n",
      "Epoch 16/20\n",
      "139/139 [==============================] - 81s 585ms/step - loss: 0.1747 - acc: 0.9424 - val_loss: 1.1101 - val_acc: 0.6562\n",
      "Epoch 17/20\n",
      "139/139 [==============================] - 81s 582ms/step - loss: 0.2294 - acc: 0.9379 - val_loss: 0.5834 - val_acc: 0.7865\n",
      "Epoch 18/20\n",
      "139/139 [==============================] - 81s 583ms/step - loss: 0.0987 - acc: 0.9739 - val_loss: 0.9536 - val_acc: 0.7552\n",
      "Epoch 19/20\n",
      "139/139 [==============================] - 81s 582ms/step - loss: 0.1079 - acc: 0.9640 - val_loss: 0.8149 - val_acc: 0.8281\n",
      "Epoch 20/20\n",
      "139/139 [==============================] - 81s 584ms/step - loss: 0.1639 - acc: 0.9559 - val_loss: 1.7758 - val_acc: 0.6719\n"
     ]
    }
   ],
   "source": [
    "fine_tunning_history = model.fit(x=image_tensor, y=label_tensor,\n",
    "                                 epochs=20, steps_per_epoch=STEPS_PER_EPOCH, \n",
    "                                 validation_data=(val_img_tensor, val_label_tensor),\n",
    "                                 validation_steps=VALIDATION_STEPS)"
   ]
  },
  {
   "cell_type": "code",
   "execution_count": 0,
   "metadata": {
    "colab": {
     "base_uri": "https://localhost:8080/",
     "height": 519
    },
    "colab_type": "code",
    "executionInfo": {
     "elapsed": 1942937,
     "status": "ok",
     "timestamp": 1561720849852,
     "user": {
      "displayName": "Oscar Darias",
      "photoUrl": "https://lh5.googleusercontent.com/-LRfbx-yLpIQ/AAAAAAAAAAI/AAAAAAAARJA/7oZPXtss-vU/s64/photo.jpg",
      "userId": "01395086989309546998"
     },
     "user_tz": -60
    },
    "id": "dtgj-YBnGXQI",
    "outputId": "c5fb76d3-a26b-40ac-e2ce-b2fbfe732eeb"
   },
   "outputs": [
    {
     "data": {
      "image/png": "[encoded data removed]",
      "text/plain": [
       "<Figure size 1440x576 with 2 Axes>"
      ]
     },
     "metadata": {
      "tags": []
     },
     "output_type": "display_data"
    }
   ],
   "source": [
    "plot_training(fine_tunning_history, 'Training of binary InceptionV3')"
   ]
  },
  {
   "cell_type": "markdown",
   "metadata": {
    "colab_type": "text",
    "id": "uVQtPtu8W6vo"
   },
   "source": [
    "---\n",
    "\n",
    "### Saving and loading\n",
    "\n",
    "Save the model at this point:"
   ]
  },
  {
   "cell_type": "code",
   "execution_count": 0,
   "metadata": {
    "colab": {},
    "colab_type": "code",
    "id": "bg3mGj7ME8ZR"
   },
   "outputs": [],
   "source": [
    "CHECKPOINT_STAGE_2 = 'fine_tuned_inception_v3'\n",
    "model_file = os.path.join(DB_MODELS, CHECKPOINT_STAGE_2) + '.h5'"
   ]
  },
  {
   "cell_type": "code",
   "execution_count": 0,
   "metadata": {
    "colab": {},
    "colab_type": "code",
    "id": "ZuNaV4HJE8ZW"
   },
   "outputs": [],
   "source": [
    "model_file = os.path.join(DB_MODELS, CHECKPOINT_STAGE_2) + '.h5'\n",
    "model.save(model_file) "
   ]
  },
  {
   "cell_type": "markdown",
   "metadata": {
    "colab_type": "text",
    "id": "srYJRagbE8ZX"
   },
   "source": [
    "For loading, run the following cell:"
   ]
  },
  {
   "cell_type": "code",
   "execution_count": 0,
   "metadata": {
    "colab": {},
    "colab_type": "code",
    "id": "maOXnrt5E8ZY"
   },
   "outputs": [],
   "source": [
    "model = tf.keras.models.load_model(model_file)"
   ]
  },
  {
   "cell_type": "markdown",
   "metadata": {
    "colab_type": "text",
    "id": "17UYe2qJ5J8M"
   },
   "source": [
    "---\n",
    "\n",
    "### Testing"
   ]
  },
  {
   "cell_type": "code",
   "execution_count": 0,
   "metadata": {
    "colab": {},
    "colab_type": "code",
    "id": "mZ99jF4oXiZi"
   },
   "outputs": [],
   "source": [
    "def get_data_for_predict(tfrec_file, decoding_fn):\n",
    "  ''' Read and return the data from a TFRecord file.\n",
    "      \n",
    "      Params:\n",
    "        tfrec_file -- Absolute path to the .tfrecord\n",
    "        decoding_fn - Function used to decode the serialized examples\n",
    "      \n",
    "      Returns:\n",
    "        images and labels (tuple)\n",
    "  '''\n",
    "  \n",
    "  # create the placeholders\n",
    "  images = np.empty((n_test_samples, *IMG_RGB_SHAPE))\n",
    "  labels = np.empty((n_test_samples))\n",
    "\n",
    "  # create the iterator for the TFRecord\n",
    "  dataset = tf.data.TFRecordDataset(tfrec_file).map(decoding_fn)\n",
    "  #dataset = dataset.map(lambda img, label: (tf.image.grayscale_to_rgb(img), label))\n",
    "  iterator = dataset.make_one_shot_iterator()\n",
    "  next_record = iterator.get_next()\n",
    "\n",
    "  # init a session, copying the information to the placeholders\n",
    "  i = 0\n",
    "  with tf.Session() as sess:\n",
    "    while i < n_test_samples:\n",
    "      images[i,], labels[i] = sess.run(next_record)\n",
    "      i += 1\n",
    "      \n",
    "  return images, labels"
   ]
  },
  {
   "cell_type": "code",
   "execution_count": 0,
   "metadata": {
    "colab": {},
    "colab_type": "code",
    "id": "frj1V3MLbF2k"
   },
   "outputs": [],
   "source": [
    "def compute_auc(model, images, labels, target_names, title):\n",
    "  ''' Computes the ROC and AUC for a given model\n",
    "      and a specific test set.\n",
    "      \n",
    "      Parameters:\n",
    "        model -- The trained model\n",
    "        images -- Images of the test set\n",
    "        labels -- Labels for the images\n",
    "        target_names -- Names for the labels\n",
    "  '''\n",
    "  n_classes = len(target_names)\n",
    "  y_true = tf.keras.utils.to_categorical(labels, n_classes)\n",
    "  y_pred = model.predict(x=images)\n",
    "  \n",
    "  fpr = dict()\n",
    "  tpr = dict()\n",
    "  roc_auc = dict()\n",
    "  for i in range(n_classes):\n",
    "    fpr[i], tpr[i], _ = skmetrics.roc_curve(y_true[:, i], y_pred[:, i])\n",
    "    roc_auc[i] = skmetrics.auc(fpr[i], tpr[i])\n",
    "  \n",
    "  # compute micro-average ROC curve and ROC area\n",
    "  fpr['micro'], tpr['micro'], _ = skmetrics.roc_curve(y_true.ravel(), y_pred.ravel())\n",
    "  roc_auc['micro'] = skmetrics.auc(fpr['micro'], tpr['micro'])\n",
    "  \n",
    "  # compute macro-average ROC curve and ROC area\n",
    "  # first aggregate all false positive rates\n",
    "  all_fpr = np.unique(np.concatenate([fpr[i] for i in range(n_classes)]))\n",
    "\n",
    "  # Then interpolate all ROC curves at this points\n",
    "  mean_tpr = np.zeros_like(all_fpr)\n",
    "  for i in range(n_classes):\n",
    "      mean_tpr += interp(all_fpr, fpr[i], tpr[i])\n",
    "\n",
    "  # finally average it and compute AUC\n",
    "  mean_tpr /= n_classes\n",
    "\n",
    "  fpr['macro'] = all_fpr\n",
    "  tpr['macro'] = mean_tpr\n",
    "  roc_auc['macro'] = skmetrics.auc(fpr['macro'], tpr['macro'])\n",
    "\n",
    "  # plot all ROC curves\n",
    "  plt.figure(figsize=(10, 10))\n",
    "  plt.plot(fpr['micro'], tpr['micro'],\n",
    "           label='micro-average ROC curve (area = {0:0.2f})'\n",
    "                 ''.format(roc_auc['micro']),\n",
    "           color='deeppink', linestyle=':', linewidth=4)\n",
    "\n",
    "  plt.plot(fpr['macro'], tpr['macro'],\n",
    "           label='macro-average ROC curve (area = {0:0.2f})'\n",
    "                 ''.format(roc_auc[\"macro\"]),\n",
    "           color='navy', linestyle=':', linewidth=4)\n",
    "\n",
    "  colors = cycle(['aqua', 'darkorange', 'cornflowerblue'])\n",
    "  for i, color in zip(range(n_classes), colors):\n",
    "      plt.plot(fpr[i], tpr[i], color=color, lw=2,\n",
    "               label='ROC curve of class {0} (area = {1:0.2f})'\n",
    "               ''.format(target_names[i], roc_auc[i]))\n",
    "\n",
    "  plt.plot([0, 1], [0, 1], 'k--', lw=2)\n",
    "  plt.xlim([0.0, 1.0])\n",
    "  plt.ylim([0.0, 1.05])\n",
    "  plt.xlabel('False Positive Rate')\n",
    "  plt.ylabel('True Positive Rate')\n",
    "  plt.title(title)\n",
    "  plt.legend(loc=\"lower right\")\n",
    "  \n",
    "  export_file = '-'.join(title.split()) + '.png'\n",
    "  plt.savefig(os.path.join(DB_MODELS, export_file))\n",
    "  \n",
    "  plt.show()"
   ]
  },
  {
   "cell_type": "code",
   "execution_count": 0,
   "metadata": {
    "colab": {},
    "colab_type": "code",
    "id": "xTxu06FRzFD5"
   },
   "outputs": [],
   "source": [
    "def classification_report(model, images, labels, target_names, output_file):\n",
    "  ''' Prints the classification report for a given model and\n",
    "      a specific test set.\n",
    "      \n",
    "      Parameters:\n",
    "        model -- The trained model\n",
    "        images -- Images of the test set\n",
    "        labels -- Labels of the images\n",
    "        target_names -- Names of the labels\n",
    "        output_file\n",
    "  '''\n",
    "  \n",
    "  n_classes = len(target_names)\n",
    "  y_true = tf.keras.utils.to_categorical(labels, n_classes)\n",
    "  predictions = model.predict(x=images)\n",
    "  \n",
    "  output = skmetrics.classification_report(labels, predictions.argmax(axis=1), \n",
    "                                           target_names=target_names, output_dict=True)\n",
    "  print(json.dumps(output, indent=4))\n",
    "  \n",
    "  with open(os.path.join(DB_MODELS, output_file), 'w') as output_json:\n",
    "    json.dump(output, output_json, indent=4)"
   ]
  },
  {
   "cell_type": "code",
   "execution_count": 0,
   "metadata": {
    "colab": {},
    "colab_type": "code",
    "id": "-uR93Cb4XUza"
   },
   "outputs": [],
   "source": [
    "images, labels = get_data_for_predict(test_tfrec, decode)"
   ]
  },
  {
   "cell_type": "code",
   "execution_count": 0,
   "metadata": {
    "colab": {
     "base_uri": "https://localhost:8080/",
     "height": 476
    },
    "colab_type": "code",
    "executionInfo": {
     "elapsed": 13877,
     "status": "ok",
     "timestamp": 1561721226362,
     "user": {
      "displayName": "Oscar Darias",
      "photoUrl": "https://lh5.googleusercontent.com/-LRfbx-yLpIQ/AAAAAAAAAAI/AAAAAAAARJA/7oZPXtss-vU/s64/photo.jpg",
      "userId": "01395086989309546998"
     },
     "user_tz": -60
    },
    "id": "V1Gq1IsX_y5f",
    "outputId": "9b71e247-8c92-42d9-9b7d-57a6ef3d99f5"
   },
   "outputs": [
    {
     "name": "stdout",
     "output_type": "stream",
     "text": [
      "{\n",
      "    \"CN\": {\n",
      "        \"precision\": 0.671957671957672,\n",
      "        \"recall\": 0.9621212121212122,\n",
      "        \"f1-score\": 0.7912772585669783,\n",
      "        \"support\": 132\n",
      "    },\n",
      "    \"AD\": {\n",
      "        \"precision\": 0.8780487804878049,\n",
      "        \"recall\": 0.3673469387755102,\n",
      "        \"f1-score\": 0.5179856115107914,\n",
      "        \"support\": 98\n",
      "    },\n",
      "    \"accuracy\": 0.7086956521739131,\n",
      "    \"macro avg\": {\n",
      "        \"precision\": 0.7750032262227384,\n",
      "        \"recall\": 0.6647340754483612,\n",
      "        \"f1-score\": 0.6546314350388849,\n",
      "        \"support\": 230\n",
      "    },\n",
      "    \"weighted avg\": {\n",
      "        \"precision\": 0.7597704051574677,\n",
      "        \"recall\": 0.7086956521739131,\n",
      "        \"f1-score\": 0.6748312524299943,\n",
      "        \"support\": 230\n",
      "    }\n",
      "}\n"
     ]
    }
   ],
   "source": [
    "classification_report(model, images, labels, BINARY_LABELS, 'classification-report-binary-model.json')"
   ]
  },
  {
   "cell_type": "code",
   "execution_count": 0,
   "metadata": {
    "colab": {
     "base_uri": "https://localhost:8080/",
     "height": 621
    },
    "colab_type": "code",
    "executionInfo": {
     "elapsed": 17799,
     "status": "ok",
     "timestamp": 1561721231113,
     "user": {
      "displayName": "Oscar Darias",
      "photoUrl": "https://lh5.googleusercontent.com/-LRfbx-yLpIQ/AAAAAAAAAAI/AAAAAAAARJA/7oZPXtss-vU/s64/photo.jpg",
      "userId": "01395086989309546998"
     },
     "user_tz": -60
    },
    "id": "F-wZvkbGd0uW",
    "outputId": "4a758d9f-2be1-4b80-afaf-c32712ed7353"
   },
   "outputs": [
    {
     "data": {
      "image/png": "[encoded data removed]",
      "text/plain": [
       "<Figure size 720x720 with 1 Axes>"
      ]
     },
     "metadata": {
      "tags": []
     },
     "output_type": "display_data"
    }
   ],
   "source": [
    "compute_auc(model, images, labels, ['CN', 'AD'], 'AUC for binary InceptionV3')"
   ]
  }
 ],
 "metadata": {
  "accelerator": "GPU",
  "colab": {
   "collapsed_sections": [],
   "name": "Fine-tuning of InceptionV3.ipynb",
   "provenance": [],
   "version": "0.3.2"
  },
  "kernelspec": {
   "display_name": "Python 3",
   "language": "python",
   "name": "python3"
  },
  "language_info": {
   "codemirror_mode": {
    "name": "ipython",
    "version": 3
   },
   "file_extension": ".py",
   "mimetype": "text/x-python",
   "name": "python",
   "nbconvert_exporter": "python",
   "pygments_lexer": "ipython3",
   "version": "3.8.8"
  }
 },
 "nbformat": 4,
 "nbformat_minor": 1
}
